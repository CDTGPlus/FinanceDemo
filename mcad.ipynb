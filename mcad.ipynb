{
 "cells": [
  {
   "cell_type": "markdown",
   "metadata": {},
   "source": [
    "### Moving Average Convergance Divergence "
   ]
  },
  {
   "cell_type": "markdown",
   "metadata": {},
   "source": [
    "Directions\n",
    "MACD Calculation: 12 period EMA(exponential moving average) - 26 period EMA\n",
    "Signal Calculation: 9 period EMA of the MACD\n",
    "Strategy: Buy when MACD is above signal line, sell when MACD is below signal line"
   ]
  },
  {
   "cell_type": "code",
   "execution_count": 1,
   "metadata": {},
   "outputs": [],
   "source": [
    "import pandas as pd \n",
    "import numpy as np \n",
    "import yfinance as yf\n",
    "import matplotlib.pyplot as plt"
   ]
  },
  {
   "cell_type": "code",
   "execution_count": 2,
   "metadata": {},
   "outputs": [
    {
     "name": "stdout",
     "output_type": "stream",
     "text": [
      "[*********************100%***********************]  1 of 1 completed\n"
     ]
    }
   ],
   "source": [
    "df = yf.download('TSLA', start='2020-11-01')"
   ]
  },
  {
   "cell_type": "code",
   "execution_count": 3,
   "metadata": {},
   "outputs": [
    {
     "data": {
      "text/html": [
       "<div>\n",
       "<style scoped>\n",
       "    .dataframe tbody tr th:only-of-type {\n",
       "        vertical-align: middle;\n",
       "    }\n",
       "\n",
       "    .dataframe tbody tr th {\n",
       "        vertical-align: top;\n",
       "    }\n",
       "\n",
       "    .dataframe thead th {\n",
       "        text-align: right;\n",
       "    }\n",
       "</style>\n",
       "<table border=\"1\" class=\"dataframe\">\n",
       "  <thead>\n",
       "    <tr style=\"text-align: right;\">\n",
       "      <th></th>\n",
       "      <th>Open</th>\n",
       "      <th>High</th>\n",
       "      <th>Low</th>\n",
       "      <th>Close</th>\n",
       "      <th>Adj Close</th>\n",
       "      <th>Volume</th>\n",
       "    </tr>\n",
       "    <tr>\n",
       "      <th>Date</th>\n",
       "      <th></th>\n",
       "      <th></th>\n",
       "      <th></th>\n",
       "      <th></th>\n",
       "      <th></th>\n",
       "      <th></th>\n",
       "    </tr>\n",
       "  </thead>\n",
       "  <tbody>\n",
       "    <tr>\n",
       "      <th>2020-11-02</th>\n",
       "      <td>394.000000</td>\n",
       "      <td>406.980011</td>\n",
       "      <td>392.299988</td>\n",
       "      <td>400.510010</td>\n",
       "      <td>400.510010</td>\n",
       "      <td>29021100</td>\n",
       "    </tr>\n",
       "    <tr>\n",
       "      <th>2020-11-03</th>\n",
       "      <td>409.730011</td>\n",
       "      <td>427.769989</td>\n",
       "      <td>406.690002</td>\n",
       "      <td>423.899994</td>\n",
       "      <td>423.899994</td>\n",
       "      <td>34351700</td>\n",
       "    </tr>\n",
       "    <tr>\n",
       "      <th>2020-11-04</th>\n",
       "      <td>430.619995</td>\n",
       "      <td>435.399994</td>\n",
       "      <td>417.100006</td>\n",
       "      <td>420.980011</td>\n",
       "      <td>420.980011</td>\n",
       "      <td>32143100</td>\n",
       "    </tr>\n",
       "    <tr>\n",
       "      <th>2020-11-05</th>\n",
       "      <td>428.299988</td>\n",
       "      <td>440.000000</td>\n",
       "      <td>424.000000</td>\n",
       "      <td>438.089996</td>\n",
       "      <td>438.089996</td>\n",
       "      <td>28414500</td>\n",
       "    </tr>\n",
       "    <tr>\n",
       "      <th>2020-11-06</th>\n",
       "      <td>436.100006</td>\n",
       "      <td>436.570007</td>\n",
       "      <td>424.279999</td>\n",
       "      <td>429.950012</td>\n",
       "      <td>429.950012</td>\n",
       "      <td>21706000</td>\n",
       "    </tr>\n",
       "    <tr>\n",
       "      <th>...</th>\n",
       "      <td>...</td>\n",
       "      <td>...</td>\n",
       "      <td>...</td>\n",
       "      <td>...</td>\n",
       "      <td>...</td>\n",
       "      <td>...</td>\n",
       "    </tr>\n",
       "    <tr>\n",
       "      <th>2022-02-18</th>\n",
       "      <td>886.000000</td>\n",
       "      <td>886.869995</td>\n",
       "      <td>837.609985</td>\n",
       "      <td>856.979980</td>\n",
       "      <td>856.979980</td>\n",
       "      <td>22710500</td>\n",
       "    </tr>\n",
       "    <tr>\n",
       "      <th>2022-02-22</th>\n",
       "      <td>834.130005</td>\n",
       "      <td>856.729980</td>\n",
       "      <td>801.099976</td>\n",
       "      <td>821.530029</td>\n",
       "      <td>821.530029</td>\n",
       "      <td>27762700</td>\n",
       "    </tr>\n",
       "    <tr>\n",
       "      <th>2022-02-23</th>\n",
       "      <td>830.429993</td>\n",
       "      <td>835.299988</td>\n",
       "      <td>760.559998</td>\n",
       "      <td>764.039978</td>\n",
       "      <td>764.039978</td>\n",
       "      <td>31752300</td>\n",
       "    </tr>\n",
       "    <tr>\n",
       "      <th>2022-02-24</th>\n",
       "      <td>700.390015</td>\n",
       "      <td>802.479980</td>\n",
       "      <td>700.000000</td>\n",
       "      <td>800.770020</td>\n",
       "      <td>800.770020</td>\n",
       "      <td>45107400</td>\n",
       "    </tr>\n",
       "    <tr>\n",
       "      <th>2022-02-25</th>\n",
       "      <td>809.229980</td>\n",
       "      <td>819.500000</td>\n",
       "      <td>782.400024</td>\n",
       "      <td>809.869995</td>\n",
       "      <td>809.869995</td>\n",
       "      <td>25309500</td>\n",
       "    </tr>\n",
       "  </tbody>\n",
       "</table>\n",
       "<p>332 rows × 6 columns</p>\n",
       "</div>"
      ],
      "text/plain": [
       "                  Open        High         Low       Close   Adj Close  \\\n",
       "Date                                                                     \n",
       "2020-11-02  394.000000  406.980011  392.299988  400.510010  400.510010   \n",
       "2020-11-03  409.730011  427.769989  406.690002  423.899994  423.899994   \n",
       "2020-11-04  430.619995  435.399994  417.100006  420.980011  420.980011   \n",
       "2020-11-05  428.299988  440.000000  424.000000  438.089996  438.089996   \n",
       "2020-11-06  436.100006  436.570007  424.279999  429.950012  429.950012   \n",
       "...                ...         ...         ...         ...         ...   \n",
       "2022-02-18  886.000000  886.869995  837.609985  856.979980  856.979980   \n",
       "2022-02-22  834.130005  856.729980  801.099976  821.530029  821.530029   \n",
       "2022-02-23  830.429993  835.299988  760.559998  764.039978  764.039978   \n",
       "2022-02-24  700.390015  802.479980  700.000000  800.770020  800.770020   \n",
       "2022-02-25  809.229980  819.500000  782.400024  809.869995  809.869995   \n",
       "\n",
       "              Volume  \n",
       "Date                  \n",
       "2020-11-02  29021100  \n",
       "2020-11-03  34351700  \n",
       "2020-11-04  32143100  \n",
       "2020-11-05  28414500  \n",
       "2020-11-06  21706000  \n",
       "...              ...  \n",
       "2022-02-18  22710500  \n",
       "2022-02-22  27762700  \n",
       "2022-02-23  31752300  \n",
       "2022-02-24  45107400  \n",
       "2022-02-25  25309500  \n",
       "\n",
       "[332 rows x 6 columns]"
      ]
     },
     "execution_count": 3,
     "metadata": {},
     "output_type": "execute_result"
    }
   ],
   "source": [
    "df"
   ]
  },
  {
   "cell_type": "code",
   "execution_count": 6,
   "metadata": {},
   "outputs": [],
   "source": [
    "def MACD(df):\n",
    "    df['EMA12'] = df.Close.ewm(span=12,adjust=False).mean()\n",
    "    df['EMA26'] = df.Close.ewm(span=26,adjust=False).mean()\n",
    "    df['MACD'] = df.EMA12 - df.EMA26\n",
    "    df['signal'] = df.MACD.ewm(span=9).mean()\n",
    "    print('Success')"
   ]
  },
  {
   "cell_type": "code",
   "execution_count": 7,
   "metadata": {},
   "outputs": [
    {
     "name": "stdout",
     "output_type": "stream",
     "text": [
      "Success\n"
     ]
    }
   ],
   "source": [
    "MACD(df)"
   ]
  },
  {
   "cell_type": "code",
   "execution_count": 8,
   "metadata": {},
   "outputs": [
    {
     "data": {
      "text/html": [
       "<div>\n",
       "<style scoped>\n",
       "    .dataframe tbody tr th:only-of-type {\n",
       "        vertical-align: middle;\n",
       "    }\n",
       "\n",
       "    .dataframe tbody tr th {\n",
       "        vertical-align: top;\n",
       "    }\n",
       "\n",
       "    .dataframe thead th {\n",
       "        text-align: right;\n",
       "    }\n",
       "</style>\n",
       "<table border=\"1\" class=\"dataframe\">\n",
       "  <thead>\n",
       "    <tr style=\"text-align: right;\">\n",
       "      <th></th>\n",
       "      <th>Open</th>\n",
       "      <th>High</th>\n",
       "      <th>Low</th>\n",
       "      <th>Close</th>\n",
       "      <th>Adj Close</th>\n",
       "      <th>Volume</th>\n",
       "      <th>EMA12</th>\n",
       "      <th>EMA26</th>\n",
       "      <th>MACD</th>\n",
       "      <th>signal</th>\n",
       "    </tr>\n",
       "    <tr>\n",
       "      <th>Date</th>\n",
       "      <th></th>\n",
       "      <th></th>\n",
       "      <th></th>\n",
       "      <th></th>\n",
       "      <th></th>\n",
       "      <th></th>\n",
       "      <th></th>\n",
       "      <th></th>\n",
       "      <th></th>\n",
       "      <th></th>\n",
       "    </tr>\n",
       "  </thead>\n",
       "  <tbody>\n",
       "    <tr>\n",
       "      <th>2020-11-02</th>\n",
       "      <td>394.000000</td>\n",
       "      <td>406.980011</td>\n",
       "      <td>392.299988</td>\n",
       "      <td>400.510010</td>\n",
       "      <td>400.510010</td>\n",
       "      <td>29021100</td>\n",
       "      <td>400.510010</td>\n",
       "      <td>400.510010</td>\n",
       "      <td>0.000000</td>\n",
       "      <td>0.000000</td>\n",
       "    </tr>\n",
       "    <tr>\n",
       "      <th>2020-11-03</th>\n",
       "      <td>409.730011</td>\n",
       "      <td>427.769989</td>\n",
       "      <td>406.690002</td>\n",
       "      <td>423.899994</td>\n",
       "      <td>423.899994</td>\n",
       "      <td>34351700</td>\n",
       "      <td>404.108469</td>\n",
       "      <td>402.242601</td>\n",
       "      <td>1.865868</td>\n",
       "      <td>1.036593</td>\n",
       "    </tr>\n",
       "    <tr>\n",
       "      <th>2020-11-04</th>\n",
       "      <td>430.619995</td>\n",
       "      <td>435.399994</td>\n",
       "      <td>417.100006</td>\n",
       "      <td>420.980011</td>\n",
       "      <td>420.980011</td>\n",
       "      <td>32143100</td>\n",
       "      <td>406.704091</td>\n",
       "      <td>403.630557</td>\n",
       "      <td>3.073533</td>\n",
       "      <td>1.871405</td>\n",
       "    </tr>\n",
       "    <tr>\n",
       "      <th>2020-11-05</th>\n",
       "      <td>428.299988</td>\n",
       "      <td>440.000000</td>\n",
       "      <td>424.000000</td>\n",
       "      <td>438.089996</td>\n",
       "      <td>438.089996</td>\n",
       "      <td>28414500</td>\n",
       "      <td>411.532692</td>\n",
       "      <td>406.183108</td>\n",
       "      <td>5.349583</td>\n",
       "      <td>3.049649</td>\n",
       "    </tr>\n",
       "    <tr>\n",
       "      <th>2020-11-06</th>\n",
       "      <td>436.100006</td>\n",
       "      <td>436.570007</td>\n",
       "      <td>424.279999</td>\n",
       "      <td>429.950012</td>\n",
       "      <td>429.950012</td>\n",
       "      <td>21706000</td>\n",
       "      <td>414.366126</td>\n",
       "      <td>407.943620</td>\n",
       "      <td>6.422506</td>\n",
       "      <td>4.052998</td>\n",
       "    </tr>\n",
       "    <tr>\n",
       "      <th>...</th>\n",
       "      <td>...</td>\n",
       "      <td>...</td>\n",
       "      <td>...</td>\n",
       "      <td>...</td>\n",
       "      <td>...</td>\n",
       "      <td>...</td>\n",
       "      <td>...</td>\n",
       "      <td>...</td>\n",
       "      <td>...</td>\n",
       "      <td>...</td>\n",
       "    </tr>\n",
       "    <tr>\n",
       "      <th>2022-02-18</th>\n",
       "      <td>886.000000</td>\n",
       "      <td>886.869995</td>\n",
       "      <td>837.609985</td>\n",
       "      <td>856.979980</td>\n",
       "      <td>856.979980</td>\n",
       "      <td>22710500</td>\n",
       "      <td>898.689584</td>\n",
       "      <td>928.421915</td>\n",
       "      <td>-29.732331</td>\n",
       "      <td>-30.786512</td>\n",
       "    </tr>\n",
       "    <tr>\n",
       "      <th>2022-02-22</th>\n",
       "      <td>834.130005</td>\n",
       "      <td>856.729980</td>\n",
       "      <td>801.099976</td>\n",
       "      <td>821.530029</td>\n",
       "      <td>821.530029</td>\n",
       "      <td>27762700</td>\n",
       "      <td>886.818883</td>\n",
       "      <td>920.503998</td>\n",
       "      <td>-33.685114</td>\n",
       "      <td>-31.366232</td>\n",
       "    </tr>\n",
       "    <tr>\n",
       "      <th>2022-02-23</th>\n",
       "      <td>830.429993</td>\n",
       "      <td>835.299988</td>\n",
       "      <td>760.559998</td>\n",
       "      <td>764.039978</td>\n",
       "      <td>764.039978</td>\n",
       "      <td>31752300</td>\n",
       "      <td>867.929821</td>\n",
       "      <td>908.914070</td>\n",
       "      <td>-40.984249</td>\n",
       "      <td>-33.289835</td>\n",
       "    </tr>\n",
       "    <tr>\n",
       "      <th>2022-02-24</th>\n",
       "      <td>700.390015</td>\n",
       "      <td>802.479980</td>\n",
       "      <td>700.000000</td>\n",
       "      <td>800.770020</td>\n",
       "      <td>800.770020</td>\n",
       "      <td>45107400</td>\n",
       "      <td>857.597544</td>\n",
       "      <td>900.903400</td>\n",
       "      <td>-43.305856</td>\n",
       "      <td>-35.293040</td>\n",
       "    </tr>\n",
       "    <tr>\n",
       "      <th>2022-02-25</th>\n",
       "      <td>809.229980</td>\n",
       "      <td>819.500000</td>\n",
       "      <td>782.400024</td>\n",
       "      <td>809.869995</td>\n",
       "      <td>809.869995</td>\n",
       "      <td>25309500</td>\n",
       "      <td>850.254844</td>\n",
       "      <td>894.160185</td>\n",
       "      <td>-43.905341</td>\n",
       "      <td>-37.015500</td>\n",
       "    </tr>\n",
       "  </tbody>\n",
       "</table>\n",
       "<p>332 rows × 10 columns</p>\n",
       "</div>"
      ],
      "text/plain": [
       "                  Open        High         Low       Close   Adj Close  \\\n",
       "Date                                                                     \n",
       "2020-11-02  394.000000  406.980011  392.299988  400.510010  400.510010   \n",
       "2020-11-03  409.730011  427.769989  406.690002  423.899994  423.899994   \n",
       "2020-11-04  430.619995  435.399994  417.100006  420.980011  420.980011   \n",
       "2020-11-05  428.299988  440.000000  424.000000  438.089996  438.089996   \n",
       "2020-11-06  436.100006  436.570007  424.279999  429.950012  429.950012   \n",
       "...                ...         ...         ...         ...         ...   \n",
       "2022-02-18  886.000000  886.869995  837.609985  856.979980  856.979980   \n",
       "2022-02-22  834.130005  856.729980  801.099976  821.530029  821.530029   \n",
       "2022-02-23  830.429993  835.299988  760.559998  764.039978  764.039978   \n",
       "2022-02-24  700.390015  802.479980  700.000000  800.770020  800.770020   \n",
       "2022-02-25  809.229980  819.500000  782.400024  809.869995  809.869995   \n",
       "\n",
       "              Volume       EMA12       EMA26       MACD     signal  \n",
       "Date                                                                \n",
       "2020-11-02  29021100  400.510010  400.510010   0.000000   0.000000  \n",
       "2020-11-03  34351700  404.108469  402.242601   1.865868   1.036593  \n",
       "2020-11-04  32143100  406.704091  403.630557   3.073533   1.871405  \n",
       "2020-11-05  28414500  411.532692  406.183108   5.349583   3.049649  \n",
       "2020-11-06  21706000  414.366126  407.943620   6.422506   4.052998  \n",
       "...              ...         ...         ...        ...        ...  \n",
       "2022-02-18  22710500  898.689584  928.421915 -29.732331 -30.786512  \n",
       "2022-02-22  27762700  886.818883  920.503998 -33.685114 -31.366232  \n",
       "2022-02-23  31752300  867.929821  908.914070 -40.984249 -33.289835  \n",
       "2022-02-24  45107400  857.597544  900.903400 -43.305856 -35.293040  \n",
       "2022-02-25  25309500  850.254844  894.160185 -43.905341 -37.015500  \n",
       "\n",
       "[332 rows x 10 columns]"
      ]
     },
     "execution_count": 8,
     "metadata": {},
     "output_type": "execute_result"
    }
   ],
   "source": [
    "df"
   ]
  },
  {
   "cell_type": "code",
   "execution_count": 10,
   "metadata": {},
   "outputs": [
    {
     "data": {
      "image/png": "[encoded data removed]",
      "text/plain": [
       "<Figure size 864x432 with 1 Axes>"
      ]
     },
     "metadata": {
      "needs_background": "light"
     },
     "output_type": "display_data"
    }
   ],
   "source": [
    "plt.rcParams[\"figure.figsize\"] = (12,6)\n",
    "plt.plot(df.signal, label='signal',color='red')\n",
    "plt.plot(df.MACD, label='MACD', color='green')\n",
    "plt.legend()\n",
    "plt.show()"
   ]
  },
  {
   "cell_type": "code",
   "execution_count": 11,
   "metadata": {},
   "outputs": [],
   "source": [
    "Buy, Sell = [],[]\n",
    "\n",
    "for i in range(2,len(df)):\n",
    "    if df.MACD.iloc[i] > df.signal.iloc[i] and df.MACD.iloc[i-1] < df.signal.iloc[i-1]:\n",
    "        Buy.append(i)\n",
    "    elif df.MACD.iloc[i] < df.signal.iloc[i] and df.MACD.iloc[i-1] > df.signal.iloc[i-1]:\n",
    "        Sell.append(i)"
   ]
  },
  {
   "cell_type": "code",
   "execution_count": 12,
   "metadata": {},
   "outputs": [
    {
     "data": {
      "text/plain": [
       "[11, 33, 42, 89, 102, 141, 172, 186, 207, 226, 234, 237, 289, 301, 319, 324]"
      ]
     },
     "execution_count": 12,
     "metadata": {},
     "output_type": "execute_result"
    }
   ],
   "source": [
    "Buy"
   ]
  },
  {
   "cell_type": "code",
   "execution_count": 13,
   "metadata": {},
   "outputs": [
    {
     "data": {
      "text/plain": [
       "[8, 31, 34, 54, 99, 121, 171, 174, 197, 221, 233, 235, 258, 300, 302, 322, 328]"
      ]
     },
     "execution_count": 13,
     "metadata": {},
     "output_type": "execute_result"
    }
   ],
   "source": [
    "Sell"
   ]
  },
  {
   "cell_type": "code",
   "execution_count": 14,
   "metadata": {},
   "outputs": [
    {
     "data": {
      "text/plain": [
       "DatetimeIndex(['2020-11-17', '2020-12-18', '2021-01-04', '2021-03-12',\n",
       "               '2021-03-31', '2021-05-26', '2021-07-12', '2021-07-30',\n",
       "               '2021-08-30', '2021-09-27', '2021-10-07', '2021-10-12',\n",
       "               '2021-12-27', '2022-01-12', '2022-02-08', '2022-02-15'],\n",
       "              dtype='datetime64[ns]', name='Date', freq=None)"
      ]
     },
     "execution_count": 14,
     "metadata": {},
     "output_type": "execute_result"
    }
   ],
   "source": [
    "df.iloc[Buy].index"
   ]
  },
  {
   "cell_type": "code",
   "execution_count": 17,
   "metadata": {},
   "outputs": [
    {
     "data": {
      "image/png": "[encoded data removed]",
      "text/plain": [
       "<Figure size 1152x576 with 1 Axes>"
      ]
     },
     "metadata": {
      "needs_background": "light"
     },
     "output_type": "display_data"
    }
   ],
   "source": [
    "plt.figure(figsize=(16,8))\n",
    "plt.scatter(df.iloc[Buy].index, df.iloc[Buy].Close, marker=\"^\", color=\"green\")\n",
    "plt.scatter(df.iloc[Sell].index, df.iloc[Sell].Close, marker=\"v\", color=\"red\")\n",
    "plt.plot(df.Close, label='TSLA Close', color=\"k\")\n",
    "plt.legend()\n",
    "plt.show()"
   ]
  },
  {
   "cell_type": "code",
   "execution_count": 18,
   "metadata": {},
   "outputs": [],
   "source": [
    "Realbuys = [i+1 for i in Buy]\n",
    "Realsells = [i+1 for i in Sell]"
   ]
  },
  {
   "cell_type": "code",
   "execution_count": 19,
   "metadata": {},
   "outputs": [],
   "source": [
    "Buyprices = df.Open.iloc[Realbuys]\n",
    "Sellprices = df.Open.iloc[Realsells]"
   ]
  },
  {
   "cell_type": "code",
   "execution_count": 20,
   "metadata": {},
   "outputs": [
    {
     "data": {
      "text/plain": [
       "Date\n",
       "2020-11-18     448.350006\n",
       "2020-12-21     666.239990\n",
       "2021-01-05     723.659973\n",
       "2021-03-15     694.090027\n",
       "2021-04-01     688.369995\n",
       "2021-05-27     620.239990\n",
       "2021-07-13     686.320007\n",
       "2021-08-02     700.000000\n",
       "2021-08-31     733.000000\n",
       "2021-09-28     787.200012\n",
       "2021-10-08     796.210022\n",
       "2021-10-13     810.469971\n",
       "2021-12-28    1109.489990\n",
       "2022-01-13    1109.069946\n",
       "2022-02-09     935.000000\n",
       "2022-02-16     914.049988\n",
       "Name: Open, dtype: float64"
      ]
     },
     "execution_count": 20,
     "metadata": {},
     "output_type": "execute_result"
    }
   ],
   "source": [
    "Buyprices"
   ]
  },
  {
   "cell_type": "code",
   "execution_count": 21,
   "metadata": {},
   "outputs": [],
   "source": [
    "#Account for instance in which there is a sell before a purchase and hence profitability can't be calculated\n",
    "#Aply principle for pruchase without subsequent sale \n",
    "\n",
    "if Sellprices.index[0] < Buyprices.index[0]:\n",
    "    Sellprices = Sellprices.drop(Sellprices.index[0])\n",
    "elif Buyprices.index[-1] > Sellprices.index[-1]:\n",
    "    Buyprices = Buyprices.drop(Buyprices.index[0])"
   ]
  },
  {
   "cell_type": "code",
   "execution_count": 26,
   "metadata": {},
   "outputs": [],
   "source": [
    "profitsrel = []\n",
    "\n",
    "for i in range(len(Sellprices)):\n",
    "    profitsrel.append((Sellprices[i] - Buyprices[i]) / Buyprices[i])"
   ]
  },
  {
   "cell_type": "code",
   "execution_count": 27,
   "metadata": {},
   "outputs": [
    {
     "data": {
      "text/plain": [
       "[0.40111518654996725,\n",
       " -0.027377507357308883,\n",
       " 0.15290333653974694,\n",
       " -0.1130257015252677,\n",
       " 0.01618317870833553,\n",
       " 0.06765126827246415,\n",
       " -0.04069529137679222,\n",
       " -0.03905718122209821,\n",
       " 0.0024419891232520465,\n",
       " -0.0022103534138632453,\n",
       " -0.010750929179949107,\n",
       " 0.36065500190530125,\n",
       " -0.027616305616209234,\n",
       " -0.08041868026870505,\n",
       " -0.07853475152489973,\n",
       " -0.09148295633053204]"
      ]
     },
     "execution_count": 27,
     "metadata": {},
     "output_type": "execute_result"
    }
   ],
   "source": [
    "profitsrel"
   ]
  },
  {
   "cell_type": "code",
   "execution_count": 28,
   "metadata": {},
   "outputs": [
    {
     "data": {
      "text/plain": [
       "0.030611268955215112"
      ]
     },
     "execution_count": 28,
     "metadata": {},
     "output_type": "execute_result"
    }
   ],
   "source": [
    "sum(profitsrel)/len(profitsrel)"
   ]
  },
  {
   "cell_type": "code",
   "execution_count": null,
   "metadata": {},
   "outputs": [],
   "source": []
  }
 ],
 "metadata": {
  "interpreter": {
   "hash": "63fd5069d213b44bf678585dea6b12cceca9941eaf7f819626cde1f2670de90d"
  },
  "kernelspec": {
   "display_name": "Python 3.9.1 64-bit",
   "language": "python",
   "name": "python3"
  },
  "language_info": {
   "codemirror_mode": {
    "name": "ipython",
    "version": 3
   },
   "file_extension": ".py",
   "mimetype": "text/x-python",
   "name": "python",
   "nbconvert_exporter": "python",
   "pygments_lexer": "ipython3",
   "version": "3.9.1"
  },
  "orig_nbformat": 4
 },
 "nbformat": 4,
 "nbformat_minor": 2
}
