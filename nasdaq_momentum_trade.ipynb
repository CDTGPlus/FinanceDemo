{
 "cells": [
  {
   "cell_type": "markdown",
   "metadata": {},
   "source": [
    "### Momentum Nasdaq 100\n",
    "Trade Frequency: Monthly\n",
    "Select the 50 best stocks of the nasdaq 100 by percentage change of the last 12 months\n",
    "\n",
    "Among these: Selcet the best 30 shares by percentage chage in the last 6 months\n",
    "\n",
    "Among the latter: Select the top 10  shares by percentage change in the last 3 months\n",
    "\n",
    "Repeat the analysis on a fixed day monthly (Eg: the third Friday)"
   ]
  },
  {
   "cell_type": "code",
   "execution_count": 2,
   "metadata": {},
   "outputs": [],
   "source": [
    "import pandas as pd \n",
    "import yfinance as yf \n",
    "import numpy as np\n",
    "import ssl\n",
    "\n",
    "ssl._create_default_https_context = ssl._create_unverified_context"
   ]
  },
  {
   "cell_type": "code",
   "execution_count": 4,
   "metadata": {},
   "outputs": [],
   "source": [
    "ticker_df = pd.read_html(\"https://en.wikipedia.org/wiki/Nasdaq-100\")[4]"
   ]
  },
  {
   "cell_type": "code",
   "execution_count": 6,
   "metadata": {},
   "outputs": [],
   "source": [
    "tickers = ticker_df.Symbol.to_list()"
   ]
  },
  {
   "cell_type": "code",
   "execution_count": 7,
   "metadata": {},
   "outputs": [
    {
     "name": "stdout",
     "output_type": "stream",
     "text": [
      "[*********************100%***********************]  102 of 102 completed\n"
     ]
    }
   ],
   "source": [
    "df = yf.download(tickers, start='2010-01-01')['Adj Close']"
   ]
  },
  {
   "cell_type": "code",
   "execution_count": 9,
   "metadata": {},
   "outputs": [
    {
     "data": {
      "text/plain": [
       "332316"
      ]
     },
     "execution_count": 9,
     "metadata": {},
     "output_type": "execute_result"
    }
   ],
   "source": [
    "df.size"
   ]
  },
  {
   "cell_type": "code",
   "execution_count": 10,
   "metadata": {},
   "outputs": [
    {
     "data": {
      "text/html": [
       "<div>\n",
       "<style scoped>\n",
       "    .dataframe tbody tr th:only-of-type {\n",
       "        vertical-align: middle;\n",
       "    }\n",
       "\n",
       "    .dataframe tbody tr th {\n",
       "        vertical-align: top;\n",
       "    }\n",
       "\n",
       "    .dataframe thead th {\n",
       "        text-align: right;\n",
       "    }\n",
       "</style>\n",
       "<table border=\"1\" class=\"dataframe\">\n",
       "  <thead>\n",
       "    <tr style=\"text-align: right;\">\n",
       "      <th></th>\n",
       "      <th>AAPL</th>\n",
       "      <th>ADBE</th>\n",
       "      <th>ADI</th>\n",
       "      <th>ADP</th>\n",
       "      <th>ADSK</th>\n",
       "      <th>AEP</th>\n",
       "      <th>ALGN</th>\n",
       "      <th>AMAT</th>\n",
       "      <th>AMD</th>\n",
       "      <th>AMGN</th>\n",
       "      <th>...</th>\n",
       "      <th>SIRI</th>\n",
       "      <th>SNPS</th>\n",
       "      <th>SWKS</th>\n",
       "      <th>TMUS</th>\n",
       "      <th>TXN</th>\n",
       "      <th>VRSK</th>\n",
       "      <th>VRSN</th>\n",
       "      <th>VRTX</th>\n",
       "      <th>WBA</th>\n",
       "      <th>XEL</th>\n",
       "    </tr>\n",
       "    <tr>\n",
       "      <th>Date</th>\n",
       "      <th></th>\n",
       "      <th></th>\n",
       "      <th></th>\n",
       "      <th></th>\n",
       "      <th></th>\n",
       "      <th></th>\n",
       "      <th></th>\n",
       "      <th></th>\n",
       "      <th></th>\n",
       "      <th></th>\n",
       "      <th></th>\n",
       "      <th></th>\n",
       "      <th></th>\n",
       "      <th></th>\n",
       "      <th></th>\n",
       "      <th></th>\n",
       "      <th></th>\n",
       "      <th></th>\n",
       "      <th></th>\n",
       "      <th></th>\n",
       "      <th></th>\n",
       "    </tr>\n",
       "  </thead>\n",
       "  <tbody>\n",
       "    <tr>\n",
       "      <th>2010-01-04</th>\n",
       "      <td>6.515212</td>\n",
       "      <td>37.090000</td>\n",
       "      <td>23.067621</td>\n",
       "      <td>27.491217</td>\n",
       "      <td>25.670000</td>\n",
       "      <td>21.142134</td>\n",
       "      <td>18.500000</td>\n",
       "      <td>11.328529</td>\n",
       "      <td>9.700000</td>\n",
       "      <td>43.267170</td>\n",
       "      <td>...</td>\n",
       "      <td>0.579823</td>\n",
       "      <td>22.440001</td>\n",
       "      <td>13.017758</td>\n",
       "      <td>13.207044</td>\n",
       "      <td>18.767336</td>\n",
       "      <td>29.123720</td>\n",
       "      <td>21.007998</td>\n",
       "      <td>44.240002</td>\n",
       "      <td>26.326164</td>\n",
       "      <td>13.597207</td>\n",
       "    </tr>\n",
       "    <tr>\n",
       "      <th>2010-01-05</th>\n",
       "      <td>6.526477</td>\n",
       "      <td>37.700001</td>\n",
       "      <td>23.031210</td>\n",
       "      <td>27.343588</td>\n",
       "      <td>25.280001</td>\n",
       "      <td>20.900097</td>\n",
       "      <td>18.010000</td>\n",
       "      <td>11.241386</td>\n",
       "      <td>9.710000</td>\n",
       "      <td>42.892376</td>\n",
       "      <td>...</td>\n",
       "      <td>0.615505</td>\n",
       "      <td>22.250000</td>\n",
       "      <td>13.219785</td>\n",
       "      <td>13.240186</td>\n",
       "      <td>18.659115</td>\n",
       "      <td>29.318859</td>\n",
       "      <td>21.228777</td>\n",
       "      <td>42.779999</td>\n",
       "      <td>26.114429</td>\n",
       "      <td>13.435948</td>\n",
       "    </tr>\n",
       "    <tr>\n",
       "      <th>2010-01-06</th>\n",
       "      <td>6.422665</td>\n",
       "      <td>37.619999</td>\n",
       "      <td>22.987497</td>\n",
       "      <td>27.279394</td>\n",
       "      <td>25.340000</td>\n",
       "      <td>21.111879</td>\n",
       "      <td>17.480000</td>\n",
       "      <td>11.217623</td>\n",
       "      <td>9.570000</td>\n",
       "      <td>42.570061</td>\n",
       "      <td>...</td>\n",
       "      <td>0.615505</td>\n",
       "      <td>22.209999</td>\n",
       "      <td>13.096807</td>\n",
       "      <td>12.345354</td>\n",
       "      <td>18.522007</td>\n",
       "      <td>29.699368</td>\n",
       "      <td>20.999506</td>\n",
       "      <td>42.029999</td>\n",
       "      <td>25.916805</td>\n",
       "      <td>13.461752</td>\n",
       "    </tr>\n",
       "    <tr>\n",
       "      <th>2010-01-07</th>\n",
       "      <td>6.410791</td>\n",
       "      <td>36.889999</td>\n",
       "      <td>22.805405</td>\n",
       "      <td>27.266571</td>\n",
       "      <td>25.480000</td>\n",
       "      <td>21.293415</td>\n",
       "      <td>17.430000</td>\n",
       "      <td>11.098792</td>\n",
       "      <td>9.470000</td>\n",
       "      <td>42.180252</td>\n",
       "      <td>...</td>\n",
       "      <td>0.597664</td>\n",
       "      <td>22.150000</td>\n",
       "      <td>12.947481</td>\n",
       "      <td>12.461351</td>\n",
       "      <td>18.579737</td>\n",
       "      <td>29.650585</td>\n",
       "      <td>20.710794</td>\n",
       "      <td>41.500000</td>\n",
       "      <td>26.072071</td>\n",
       "      <td>13.403695</td>\n",
       "    </tr>\n",
       "    <tr>\n",
       "      <th>2010-01-08</th>\n",
       "      <td>6.453412</td>\n",
       "      <td>36.689999</td>\n",
       "      <td>22.936512</td>\n",
       "      <td>27.228052</td>\n",
       "      <td>26.260000</td>\n",
       "      <td>21.547554</td>\n",
       "      <td>17.660000</td>\n",
       "      <td>11.526583</td>\n",
       "      <td>9.430000</td>\n",
       "      <td>42.555054</td>\n",
       "      <td>...</td>\n",
       "      <td>0.597664</td>\n",
       "      <td>22.309999</td>\n",
       "      <td>13.175868</td>\n",
       "      <td>11.765371</td>\n",
       "      <td>19.005444</td>\n",
       "      <td>29.270075</td>\n",
       "      <td>20.872133</td>\n",
       "      <td>40.669998</td>\n",
       "      <td>26.107365</td>\n",
       "      <td>13.410150</td>\n",
       "    </tr>\n",
       "    <tr>\n",
       "      <th>...</th>\n",
       "      <td>...</td>\n",
       "      <td>...</td>\n",
       "      <td>...</td>\n",
       "      <td>...</td>\n",
       "      <td>...</td>\n",
       "      <td>...</td>\n",
       "      <td>...</td>\n",
       "      <td>...</td>\n",
       "      <td>...</td>\n",
       "      <td>...</td>\n",
       "      <td>...</td>\n",
       "      <td>...</td>\n",
       "      <td>...</td>\n",
       "      <td>...</td>\n",
       "      <td>...</td>\n",
       "      <td>...</td>\n",
       "      <td>...</td>\n",
       "      <td>...</td>\n",
       "      <td>...</td>\n",
       "      <td>...</td>\n",
       "      <td>...</td>\n",
       "    </tr>\n",
       "    <tr>\n",
       "      <th>2022-12-05</th>\n",
       "      <td>146.630005</td>\n",
       "      <td>334.089996</td>\n",
       "      <td>167.839996</td>\n",
       "      <td>263.115082</td>\n",
       "      <td>198.389999</td>\n",
       "      <td>94.519997</td>\n",
       "      <td>187.910004</td>\n",
       "      <td>106.430000</td>\n",
       "      <td>73.620003</td>\n",
       "      <td>284.910004</td>\n",
       "      <td>...</td>\n",
       "      <td>6.180000</td>\n",
       "      <td>331.269989</td>\n",
       "      <td>93.739998</td>\n",
       "      <td>150.619995</td>\n",
       "      <td>177.389999</td>\n",
       "      <td>183.149994</td>\n",
       "      <td>197.289993</td>\n",
       "      <td>317.600006</td>\n",
       "      <td>41.209999</td>\n",
       "      <td>68.680000</td>\n",
       "    </tr>\n",
       "    <tr>\n",
       "      <th>2022-12-06</th>\n",
       "      <td>142.910004</td>\n",
       "      <td>331.149994</td>\n",
       "      <td>166.509995</td>\n",
       "      <td>257.283325</td>\n",
       "      <td>194.610001</td>\n",
       "      <td>96.370003</td>\n",
       "      <td>186.039993</td>\n",
       "      <td>104.709999</td>\n",
       "      <td>70.269997</td>\n",
       "      <td>283.290009</td>\n",
       "      <td>...</td>\n",
       "      <td>6.150000</td>\n",
       "      <td>328.019989</td>\n",
       "      <td>92.239998</td>\n",
       "      <td>149.389999</td>\n",
       "      <td>174.339996</td>\n",
       "      <td>182.039993</td>\n",
       "      <td>197.449997</td>\n",
       "      <td>311.809998</td>\n",
       "      <td>40.590000</td>\n",
       "      <td>69.320000</td>\n",
       "    </tr>\n",
       "    <tr>\n",
       "      <th>2022-12-07</th>\n",
       "      <td>140.940002</td>\n",
       "      <td>326.679993</td>\n",
       "      <td>166.009995</td>\n",
       "      <td>257.970001</td>\n",
       "      <td>193.339996</td>\n",
       "      <td>96.669998</td>\n",
       "      <td>187.330002</td>\n",
       "      <td>106.110001</td>\n",
       "      <td>70.139999</td>\n",
       "      <td>285.760010</td>\n",
       "      <td>...</td>\n",
       "      <td>6.200000</td>\n",
       "      <td>323.799988</td>\n",
       "      <td>91.959999</td>\n",
       "      <td>148.789993</td>\n",
       "      <td>173.750000</td>\n",
       "      <td>182.960007</td>\n",
       "      <td>195.990005</td>\n",
       "      <td>317.579987</td>\n",
       "      <td>40.650002</td>\n",
       "      <td>68.870003</td>\n",
       "    </tr>\n",
       "    <tr>\n",
       "      <th>2022-12-08</th>\n",
       "      <td>142.649994</td>\n",
       "      <td>332.579987</td>\n",
       "      <td>169.649994</td>\n",
       "      <td>260.049988</td>\n",
       "      <td>196.630005</td>\n",
       "      <td>97.720001</td>\n",
       "      <td>190.460007</td>\n",
       "      <td>108.610001</td>\n",
       "      <td>70.470001</td>\n",
       "      <td>285.570007</td>\n",
       "      <td>...</td>\n",
       "      <td>6.160000</td>\n",
       "      <td>330.609985</td>\n",
       "      <td>95.169998</td>\n",
       "      <td>143.809998</td>\n",
       "      <td>176.360001</td>\n",
       "      <td>182.179993</td>\n",
       "      <td>197.399994</td>\n",
       "      <td>321.320007</td>\n",
       "      <td>40.900002</td>\n",
       "      <td>69.809998</td>\n",
       "    </tr>\n",
       "    <tr>\n",
       "      <th>2022-12-09</th>\n",
       "      <td>142.160004</td>\n",
       "      <td>330.640015</td>\n",
       "      <td>168.679993</td>\n",
       "      <td>257.200012</td>\n",
       "      <td>194.309998</td>\n",
       "      <td>96.580002</td>\n",
       "      <td>188.809998</td>\n",
       "      <td>107.339996</td>\n",
       "      <td>68.589996</td>\n",
       "      <td>278.649994</td>\n",
       "      <td>...</td>\n",
       "      <td>6.110000</td>\n",
       "      <td>325.750000</td>\n",
       "      <td>94.519997</td>\n",
       "      <td>141.570007</td>\n",
       "      <td>174.259995</td>\n",
       "      <td>182.509995</td>\n",
       "      <td>197.669998</td>\n",
       "      <td>312.220001</td>\n",
       "      <td>40.430000</td>\n",
       "      <td>69.839996</td>\n",
       "    </tr>\n",
       "  </tbody>\n",
       "</table>\n",
       "<p>3258 rows × 80 columns</p>\n",
       "</div>"
      ],
      "text/plain": [
       "                  AAPL        ADBE         ADI         ADP        ADSK  \\\n",
       "Date                                                                     \n",
       "2010-01-04    6.515212   37.090000   23.067621   27.491217   25.670000   \n",
       "2010-01-05    6.526477   37.700001   23.031210   27.343588   25.280001   \n",
       "2010-01-06    6.422665   37.619999   22.987497   27.279394   25.340000   \n",
       "2010-01-07    6.410791   36.889999   22.805405   27.266571   25.480000   \n",
       "2010-01-08    6.453412   36.689999   22.936512   27.228052   26.260000   \n",
       "...                ...         ...         ...         ...         ...   \n",
       "2022-12-05  146.630005  334.089996  167.839996  263.115082  198.389999   \n",
       "2022-12-06  142.910004  331.149994  166.509995  257.283325  194.610001   \n",
       "2022-12-07  140.940002  326.679993  166.009995  257.970001  193.339996   \n",
       "2022-12-08  142.649994  332.579987  169.649994  260.049988  196.630005   \n",
       "2022-12-09  142.160004  330.640015  168.679993  257.200012  194.309998   \n",
       "\n",
       "                  AEP        ALGN        AMAT        AMD        AMGN  ...  \\\n",
       "Date                                                                  ...   \n",
       "2010-01-04  21.142134   18.500000   11.328529   9.700000   43.267170  ...   \n",
       "2010-01-05  20.900097   18.010000   11.241386   9.710000   42.892376  ...   \n",
       "2010-01-06  21.111879   17.480000   11.217623   9.570000   42.570061  ...   \n",
       "2010-01-07  21.293415   17.430000   11.098792   9.470000   42.180252  ...   \n",
       "2010-01-08  21.547554   17.660000   11.526583   9.430000   42.555054  ...   \n",
       "...               ...         ...         ...        ...         ...  ...   \n",
       "2022-12-05  94.519997  187.910004  106.430000  73.620003  284.910004  ...   \n",
       "2022-12-06  96.370003  186.039993  104.709999  70.269997  283.290009  ...   \n",
       "2022-12-07  96.669998  187.330002  106.110001  70.139999  285.760010  ...   \n",
       "2022-12-08  97.720001  190.460007  108.610001  70.470001  285.570007  ...   \n",
       "2022-12-09  96.580002  188.809998  107.339996  68.589996  278.649994  ...   \n",
       "\n",
       "                SIRI        SNPS       SWKS        TMUS         TXN  \\\n",
       "Date                                                                  \n",
       "2010-01-04  0.579823   22.440001  13.017758   13.207044   18.767336   \n",
       "2010-01-05  0.615505   22.250000  13.219785   13.240186   18.659115   \n",
       "2010-01-06  0.615505   22.209999  13.096807   12.345354   18.522007   \n",
       "2010-01-07  0.597664   22.150000  12.947481   12.461351   18.579737   \n",
       "2010-01-08  0.597664   22.309999  13.175868   11.765371   19.005444   \n",
       "...              ...         ...        ...         ...         ...   \n",
       "2022-12-05  6.180000  331.269989  93.739998  150.619995  177.389999   \n",
       "2022-12-06  6.150000  328.019989  92.239998  149.389999  174.339996   \n",
       "2022-12-07  6.200000  323.799988  91.959999  148.789993  173.750000   \n",
       "2022-12-08  6.160000  330.609985  95.169998  143.809998  176.360001   \n",
       "2022-12-09  6.110000  325.750000  94.519997  141.570007  174.259995   \n",
       "\n",
       "                  VRSK        VRSN        VRTX        WBA        XEL  \n",
       "Date                                                                  \n",
       "2010-01-04   29.123720   21.007998   44.240002  26.326164  13.597207  \n",
       "2010-01-05   29.318859   21.228777   42.779999  26.114429  13.435948  \n",
       "2010-01-06   29.699368   20.999506   42.029999  25.916805  13.461752  \n",
       "2010-01-07   29.650585   20.710794   41.500000  26.072071  13.403695  \n",
       "2010-01-08   29.270075   20.872133   40.669998  26.107365  13.410150  \n",
       "...                ...         ...         ...        ...        ...  \n",
       "2022-12-05  183.149994  197.289993  317.600006  41.209999  68.680000  \n",
       "2022-12-06  182.039993  197.449997  311.809998  40.590000  69.320000  \n",
       "2022-12-07  182.960007  195.990005  317.579987  40.650002  68.870003  \n",
       "2022-12-08  182.179993  197.399994  321.320007  40.900002  69.809998  \n",
       "2022-12-09  182.509995  197.669998  312.220001  40.430000  69.839996  \n",
       "\n",
       "[3258 rows x 80 columns]"
      ]
     },
     "execution_count": 10,
     "metadata": {},
     "output_type": "execute_result"
    }
   ],
   "source": [
    "#exclude companies that were not traded prior to selected df data\n",
    "df = df.dropna(axis=1)\n",
    "df"
   ]
  },
  {
   "cell_type": "code",
   "execution_count": 11,
   "metadata": {},
   "outputs": [
    {
     "data": {
      "text/html": [
       "<div>\n",
       "<style scoped>\n",
       "    .dataframe tbody tr th:only-of-type {\n",
       "        vertical-align: middle;\n",
       "    }\n",
       "\n",
       "    .dataframe tbody tr th {\n",
       "        vertical-align: top;\n",
       "    }\n",
       "\n",
       "    .dataframe thead th {\n",
       "        text-align: right;\n",
       "    }\n",
       "</style>\n",
       "<table border=\"1\" class=\"dataframe\">\n",
       "  <thead>\n",
       "    <tr style=\"text-align: right;\">\n",
       "      <th></th>\n",
       "      <th>AAPL</th>\n",
       "      <th>ADBE</th>\n",
       "      <th>ADI</th>\n",
       "      <th>ADP</th>\n",
       "      <th>ADSK</th>\n",
       "      <th>AEP</th>\n",
       "      <th>ALGN</th>\n",
       "      <th>AMAT</th>\n",
       "      <th>AMD</th>\n",
       "      <th>AMGN</th>\n",
       "      <th>...</th>\n",
       "      <th>SIRI</th>\n",
       "      <th>SNPS</th>\n",
       "      <th>SWKS</th>\n",
       "      <th>TMUS</th>\n",
       "      <th>TXN</th>\n",
       "      <th>VRSK</th>\n",
       "      <th>VRSN</th>\n",
       "      <th>VRTX</th>\n",
       "      <th>WBA</th>\n",
       "      <th>XEL</th>\n",
       "    </tr>\n",
       "    <tr>\n",
       "      <th>Date</th>\n",
       "      <th></th>\n",
       "      <th></th>\n",
       "      <th></th>\n",
       "      <th></th>\n",
       "      <th></th>\n",
       "      <th></th>\n",
       "      <th></th>\n",
       "      <th></th>\n",
       "      <th></th>\n",
       "      <th></th>\n",
       "      <th></th>\n",
       "      <th></th>\n",
       "      <th></th>\n",
       "      <th></th>\n",
       "      <th></th>\n",
       "      <th></th>\n",
       "      <th></th>\n",
       "      <th></th>\n",
       "      <th></th>\n",
       "      <th></th>\n",
       "      <th></th>\n",
       "    </tr>\n",
       "  </thead>\n",
       "  <tbody>\n",
       "    <tr>\n",
       "      <th>2010-01-31</th>\n",
       "      <td>0.897435</td>\n",
       "      <td>0.870855</td>\n",
       "      <td>0.851279</td>\n",
       "      <td>0.952370</td>\n",
       "      <td>0.926763</td>\n",
       "      <td>0.991700</td>\n",
       "      <td>1.013514</td>\n",
       "      <td>0.851749</td>\n",
       "      <td>0.769072</td>\n",
       "      <td>1.013167</td>\n",
       "      <td>...</td>\n",
       "      <td>1.292308</td>\n",
       "      <td>0.947861</td>\n",
       "      <td>0.856275</td>\n",
       "      <td>0.706399</td>\n",
       "      <td>0.869486</td>\n",
       "      <td>0.942044</td>\n",
       "      <td>0.926031</td>\n",
       "      <td>0.867993</td>\n",
       "      <td>0.966488</td>\n",
       "      <td>0.985768</td>\n",
       "    </tr>\n",
       "    <tr>\n",
       "      <th>2010-02-28</th>\n",
       "      <td>1.065396</td>\n",
       "      <td>1.072755</td>\n",
       "      <td>1.084569</td>\n",
       "      <td>1.020103</td>\n",
       "      <td>1.171921</td>\n",
       "      <td>0.982246</td>\n",
       "      <td>0.965333</td>\n",
       "      <td>1.009773</td>\n",
       "      <td>1.060322</td>\n",
       "      <td>0.968024</td>\n",
       "      <td>...</td>\n",
       "      <td>1.214286</td>\n",
       "      <td>1.029619</td>\n",
       "      <td>1.203310</td>\n",
       "      <td>1.095915</td>\n",
       "      <td>1.083556</td>\n",
       "      <td>1.006401</td>\n",
       "      <td>1.087735</td>\n",
       "      <td>1.055729</td>\n",
       "      <td>0.981576</td>\n",
       "      <td>1.001444</td>\n",
       "    </tr>\n",
       "    <tr>\n",
       "      <th>2010-03-31</th>\n",
       "      <td>1.148470</td>\n",
       "      <td>1.020779</td>\n",
       "      <td>0.992337</td>\n",
       "      <td>1.077119</td>\n",
       "      <td>1.053802</td>\n",
       "      <td>1.016657</td>\n",
       "      <td>1.068508</td>\n",
       "      <td>1.100490</td>\n",
       "      <td>1.171934</td>\n",
       "      <td>1.057057</td>\n",
       "      <td>...</td>\n",
       "      <td>0.852941</td>\n",
       "      <td>1.021461</td>\n",
       "      <td>1.021611</td>\n",
       "      <td>1.147488</td>\n",
       "      <td>1.003691</td>\n",
       "      <td>0.996466</td>\n",
       "      <td>1.044141</td>\n",
       "      <td>1.008140</td>\n",
       "      <td>1.052497</td>\n",
       "      <td>1.030483</td>\n",
       "    </tr>\n",
       "    <tr>\n",
       "      <th>2010-04-30</th>\n",
       "      <td>1.111021</td>\n",
       "      <td>0.949958</td>\n",
       "      <td>1.038515</td>\n",
       "      <td>0.975265</td>\n",
       "      <td>1.156910</td>\n",
       "      <td>1.003511</td>\n",
       "      <td>0.879007</td>\n",
       "      <td>1.023014</td>\n",
       "      <td>0.978425</td>\n",
       "      <td>0.957721</td>\n",
       "      <td>...</td>\n",
       "      <td>1.356322</td>\n",
       "      <td>1.012964</td>\n",
       "      <td>1.078846</td>\n",
       "      <td>1.077684</td>\n",
       "      <td>1.067762</td>\n",
       "      <td>0.993617</td>\n",
       "      <td>1.048424</td>\n",
       "      <td>0.948618</td>\n",
       "      <td>0.947695</td>\n",
       "      <td>1.025943</td>\n",
       "    </tr>\n",
       "    <tr>\n",
       "      <th>2010-05-31</th>\n",
       "      <td>0.983875</td>\n",
       "      <td>0.954762</td>\n",
       "      <td>0.982144</td>\n",
       "      <td>0.942587</td>\n",
       "      <td>0.860841</td>\n",
       "      <td>0.943656</td>\n",
       "      <td>0.877647</td>\n",
       "      <td>0.942779</td>\n",
       "      <td>0.944873</td>\n",
       "      <td>0.903507</td>\n",
       "      <td>...</td>\n",
       "      <td>0.872882</td>\n",
       "      <td>0.945278</td>\n",
       "      <td>0.946524</td>\n",
       "      <td>1.178244</td>\n",
       "      <td>0.938870</td>\n",
       "      <td>1.079586</td>\n",
       "      <td>1.023094</td>\n",
       "      <td>0.892185</td>\n",
       "      <td>0.915058</td>\n",
       "      <td>0.942069</td>\n",
       "    </tr>\n",
       "  </tbody>\n",
       "</table>\n",
       "<p>5 rows × 80 columns</p>\n",
       "</div>"
      ],
      "text/plain": [
       "                AAPL      ADBE       ADI       ADP      ADSK       AEP  \\\n",
       "Date                                                                     \n",
       "2010-01-31  0.897435  0.870855  0.851279  0.952370  0.926763  0.991700   \n",
       "2010-02-28  1.065396  1.072755  1.084569  1.020103  1.171921  0.982246   \n",
       "2010-03-31  1.148470  1.020779  0.992337  1.077119  1.053802  1.016657   \n",
       "2010-04-30  1.111021  0.949958  1.038515  0.975265  1.156910  1.003511   \n",
       "2010-05-31  0.983875  0.954762  0.982144  0.942587  0.860841  0.943656   \n",
       "\n",
       "                ALGN      AMAT       AMD      AMGN  ...      SIRI      SNPS  \\\n",
       "Date                                                ...                       \n",
       "2010-01-31  1.013514  0.851749  0.769072  1.013167  ...  1.292308  0.947861   \n",
       "2010-02-28  0.965333  1.009773  1.060322  0.968024  ...  1.214286  1.029619   \n",
       "2010-03-31  1.068508  1.100490  1.171934  1.057057  ...  0.852941  1.021461   \n",
       "2010-04-30  0.879007  1.023014  0.978425  0.957721  ...  1.356322  1.012964   \n",
       "2010-05-31  0.877647  0.942779  0.944873  0.903507  ...  0.872882  0.945278   \n",
       "\n",
       "                SWKS      TMUS       TXN      VRSK      VRSN      VRTX  \\\n",
       "Date                                                                     \n",
       "2010-01-31  0.856275  0.706399  0.869486  0.942044  0.926031  0.867993   \n",
       "2010-02-28  1.203310  1.095915  1.083556  1.006401  1.087735  1.055729   \n",
       "2010-03-31  1.021611  1.147488  1.003691  0.996466  1.044141  1.008140   \n",
       "2010-04-30  1.078846  1.077684  1.067762  0.993617  1.048424  0.948618   \n",
       "2010-05-31  0.946524  1.178244  0.938870  1.079586  1.023094  0.892185   \n",
       "\n",
       "                 WBA       XEL  \n",
       "Date                            \n",
       "2010-01-31  0.966488  0.985768  \n",
       "2010-02-28  0.981576  1.001444  \n",
       "2010-03-31  1.052497  1.030483  \n",
       "2010-04-30  0.947695  1.025943  \n",
       "2010-05-31  0.915058  0.942069  \n",
       "\n",
       "[5 rows x 80 columns]"
      ]
     },
     "execution_count": 11,
     "metadata": {},
     "output_type": "execute_result"
    }
   ],
   "source": [
    "#resample to obtain monthly return \n",
    "mtl = (df.pct_change()+1)[1:].resample('M').prod()\n",
    "mtl.head()"
   ]
  },
  {
   "cell_type": "code",
   "execution_count": 12,
   "metadata": {},
   "outputs": [],
   "source": [
    "#function that calculates 12, 6 and 3 monthly return \n",
    "def get_rolling_ret(df,n):\n",
    "    return df.rolling(n).apply(np.prod)"
   ]
  },
  {
   "cell_type": "code",
   "execution_count": 13,
   "metadata": {},
   "outputs": [],
   "source": [
    "ret_12, ret_6, ret_3 = get_rolling_ret(mtl,12), get_rolling_ret(mtl,6), get_rolling_ret(mtl,3)"
   ]
  },
  {
   "cell_type": "code",
   "execution_count": 14,
   "metadata": {},
   "outputs": [
    {
     "data": {
      "text/plain": [
       "Index(['NFLX', 'SIRI', 'BIDU', 'LULU', 'ILMN', 'SWKS', 'FTNT', 'BKNG', 'DLTR',\n",
       "       'ODFL', 'INTU', 'DXCM', 'PCAR', 'TMUS', 'ORLY', 'CTSH', 'MAR', 'AVGO',\n",
       "       'AAPL', 'ROST', 'ADSK', 'FAST', 'VRSN', 'SGEN', 'SBUX', 'MTCH', 'HON',\n",
       "       'CDNS', 'CSX', 'AMZN', 'REGN', 'MNST', 'MELI', 'CMCSA', 'LRCX', 'IDXX',\n",
       "       'TXN', 'BIIB', 'MCHP', 'KDP', 'COST', 'ADI', 'SNPS', 'MDLZ', 'FISV',\n",
       "       'XEL', 'ANSS', 'EBAY', 'VRSK', 'ADP'],\n",
       "      dtype='object')"
      ]
     },
     "execution_count": 14,
     "metadata": {},
     "output_type": "execute_result"
    }
   ],
   "source": [
    "#cascade\n",
    "top_50 = ret_12.loc['2010-12-31'].nlargest(50).index\n",
    "top_50"
   ]
  },
  {
   "cell_type": "code",
   "execution_count": 17,
   "metadata": {},
   "outputs": [
    {
     "data": {
      "text/plain": [
       "Index(['BKNG', 'FTNT', 'LULU', 'SIRI', 'SWKS', 'AMZN', 'NFLX', 'ADSK', 'TMUS',\n",
       "       'REGN', 'CTSH', 'ILMN', 'PCAR', 'CDNS', 'EBAY', 'BIDU', 'INTU', 'BIIB',\n",
       "       'TXN', 'MAR', 'HON', 'ADI', 'ODFL', 'LRCX', 'AVGO', 'DLTR', 'VRSN',\n",
       "       'MNST', 'SBUX', 'COST'],\n",
       "      dtype='object')"
      ]
     },
     "execution_count": 17,
     "metadata": {},
     "output_type": "execute_result"
    }
   ],
   "source": [
    "top_30 = ret_6.loc['2010-12-31', top_50].nlargest(30).index\n",
    "top_30"
   ]
  },
  {
   "cell_type": "code",
   "execution_count": 18,
   "metadata": {},
   "outputs": [
    {
     "data": {
      "text/plain": [
       "Index(['LULU', 'SWKS', 'SIRI', 'FTNT', 'ILMN', 'AVGO', 'SBUX', 'ODFL', 'LRCX',\n",
       "       'HON'],\n",
       "      dtype='object')"
      ]
     },
     "execution_count": 18,
     "metadata": {},
     "output_type": "execute_result"
    }
   ],
   "source": [
    "top_10 = ret_3.loc['2010-12-31', top_30].nlargest(10).index\n",
    "top_10"
   ]
  },
  {
   "cell_type": "code",
   "execution_count": 19,
   "metadata": {},
   "outputs": [],
   "source": [
    "#synthesize cascade into function \n",
    "def get_top(date):\n",
    "    top_50 = ret_12.loc[date].nlargest(50).index\n",
    "    top_30 = ret_6.loc[date, top_50].nlargest(30).index\n",
    "    top_10 = ret_3.loc[date, top_30].nlargest(10).index\n",
    "    return top_10"
   ]
  },
  {
   "cell_type": "code",
   "execution_count": 20,
   "metadata": {},
   "outputs": [
    {
     "data": {
      "text/plain": [
       "Index(['LULU', 'SWKS', 'SIRI', 'FTNT', 'ILMN', 'AVGO', 'SBUX', 'ODFL', 'LRCX',\n",
       "       'HON'],\n",
       "      dtype='object')"
      ]
     },
     "execution_count": 20,
     "metadata": {},
     "output_type": "execute_result"
    }
   ],
   "source": [
    "get_top('2010-12-31')"
   ]
  },
  {
   "cell_type": "code",
   "execution_count": 33,
   "metadata": {},
   "outputs": [
    {
     "data": {
      "text/html": [
       "<div>\n",
       "<style scoped>\n",
       "    .dataframe tbody tr th:only-of-type {\n",
       "        vertical-align: middle;\n",
       "    }\n",
       "\n",
       "    .dataframe tbody tr th {\n",
       "        vertical-align: top;\n",
       "    }\n",
       "\n",
       "    .dataframe thead th {\n",
       "        text-align: right;\n",
       "    }\n",
       "</style>\n",
       "<table border=\"1\" class=\"dataframe\">\n",
       "  <thead>\n",
       "    <tr style=\"text-align: right;\">\n",
       "      <th></th>\n",
       "      <th>LULU</th>\n",
       "      <th>SWKS</th>\n",
       "      <th>SIRI</th>\n",
       "      <th>FTNT</th>\n",
       "      <th>ILMN</th>\n",
       "      <th>AVGO</th>\n",
       "      <th>SBUX</th>\n",
       "      <th>ODFL</th>\n",
       "      <th>LRCX</th>\n",
       "      <th>HON</th>\n",
       "    </tr>\n",
       "    <tr>\n",
       "      <th>Date</th>\n",
       "      <th></th>\n",
       "      <th></th>\n",
       "      <th></th>\n",
       "      <th></th>\n",
       "      <th></th>\n",
       "      <th></th>\n",
       "      <th></th>\n",
       "      <th></th>\n",
       "      <th></th>\n",
       "      <th></th>\n",
       "    </tr>\n",
       "  </thead>\n",
       "  <tbody>\n",
       "    <tr>\n",
       "      <th>2011-01-31</th>\n",
       "      <td>1.0038</td>\n",
       "      <td>1.109675</td>\n",
       "      <td>0.993865</td>\n",
       "      <td>1.188563</td>\n",
       "      <td>1.094727</td>\n",
       "      <td>1.01056</td>\n",
       "      <td>0.981326</td>\n",
       "      <td>1.005627</td>\n",
       "      <td>0.963499</td>\n",
       "      <td>1.053612</td>\n",
       "    </tr>\n",
       "  </tbody>\n",
       "</table>\n",
       "</div>"
      ],
      "text/plain": [
       "              LULU      SWKS      SIRI      FTNT      ILMN     AVGO      SBUX  \\\n",
       "Date                                                                            \n",
       "2011-01-31  1.0038  1.109675  0.993865  1.188563  1.094727  1.01056  0.981326   \n",
       "\n",
       "                ODFL      LRCX       HON  \n",
       "Date                                      \n",
       "2011-01-31  1.005627  0.963499  1.053612  "
      ]
     },
     "execution_count": 33,
     "metadata": {},
     "output_type": "execute_result"
    }
   ],
   "source": [
    "#screen the monthly data frame of each top choice stock\n",
    "portfolio = mtl.loc['2010-12-31':,get_top('2010-12-31')][1:2]\n",
    "portfolio"
   ]
  },
  {
   "cell_type": "code",
   "execution_count": 34,
   "metadata": {},
   "outputs": [
    {
     "data": {
      "text/plain": [
       "Date\n",
       "2011-01-31    1.040525\n",
       "Freq: M, dtype: float64"
      ]
     },
     "execution_count": 34,
     "metadata": {},
     "output_type": "execute_result"
    }
   ],
   "source": [
    "#gain / loss\n",
    "portfolio.mean(axis=1)"
   ]
  },
  {
   "cell_type": "code",
   "execution_count": 96,
   "metadata": {},
   "outputs": [],
   "source": [
    "#synthesize into function\n",
    "def pf_performance(date):\n",
    "    portfolio = mtl.loc[date:,get_top(date)][1:2]\n",
    "    return (date,portfolio.mean(axis=1).values[0])"
   ]
  },
  {
   "cell_type": "code",
   "execution_count": 97,
   "metadata": {},
   "outputs": [
    {
     "data": {
      "text/plain": [
       "('2010-12-31', 1.040525341118584)"
      ]
     },
     "execution_count": 97,
     "metadata": {},
     "output_type": "execute_result"
    }
   ],
   "source": [
    "pf_performance('2010-12-31')"
   ]
  },
  {
   "cell_type": "code",
   "execution_count": 37,
   "metadata": {},
   "outputs": [
    {
     "data": {
      "text/plain": [
       "DatetimeIndex(['2010-01-31', '2010-02-28', '2010-03-31', '2010-04-30',\n",
       "               '2010-05-31', '2010-06-30', '2010-07-31', '2010-08-31',\n",
       "               '2010-09-30', '2010-10-31',\n",
       "               ...\n",
       "               '2022-02-28', '2022-03-31', '2022-04-30', '2022-05-31',\n",
       "               '2022-06-30', '2022-07-31', '2022-08-31', '2022-09-30',\n",
       "               '2022-10-31', '2022-11-30'],\n",
       "              dtype='datetime64[ns]', name='Date', length=155, freq='M')"
      ]
     },
     "execution_count": 37,
     "metadata": {},
     "output_type": "execute_result"
    }
   ],
   "source": [
    "mtl.index[:-1]"
   ]
  },
  {
   "cell_type": "code",
   "execution_count": 98,
   "metadata": {},
   "outputs": [],
   "source": [
    "returns = []\n",
    "\n",
    "for date in mtl.index[:-1]:\n",
    "    returns.append(pf_performance(date))"
   ]
  },
  {
   "cell_type": "code",
   "execution_count": 104,
   "metadata": {},
   "outputs": [],
   "source": [
    "price = {'price':[n[1] for n in returns]}\n",
    "momentum = pd.DataFrame(data=price, index=[n[0] for n in returns])"
   ]
  },
  {
   "cell_type": "code",
   "execution_count": 105,
   "metadata": {},
   "outputs": [
    {
     "data": {
      "text/html": [
       "<div>\n",
       "<style scoped>\n",
       "    .dataframe tbody tr th:only-of-type {\n",
       "        vertical-align: middle;\n",
       "    }\n",
       "\n",
       "    .dataframe tbody tr th {\n",
       "        vertical-align: top;\n",
       "    }\n",
       "\n",
       "    .dataframe thead th {\n",
       "        text-align: right;\n",
       "    }\n",
       "</style>\n",
       "<table border=\"1\" class=\"dataframe\">\n",
       "  <thead>\n",
       "    <tr style=\"text-align: right;\">\n",
       "      <th></th>\n",
       "      <th>price</th>\n",
       "    </tr>\n",
       "  </thead>\n",
       "  <tbody>\n",
       "    <tr>\n",
       "      <th>2010-01-31</th>\n",
       "      <td>NaN</td>\n",
       "    </tr>\n",
       "    <tr>\n",
       "      <th>2010-02-28</th>\n",
       "      <td>NaN</td>\n",
       "    </tr>\n",
       "    <tr>\n",
       "      <th>2010-03-31</th>\n",
       "      <td>NaN</td>\n",
       "    </tr>\n",
       "    <tr>\n",
       "      <th>2010-04-30</th>\n",
       "      <td>NaN</td>\n",
       "    </tr>\n",
       "    <tr>\n",
       "      <th>2010-05-31</th>\n",
       "      <td>NaN</td>\n",
       "    </tr>\n",
       "    <tr>\n",
       "      <th>...</th>\n",
       "      <td>...</td>\n",
       "    </tr>\n",
       "    <tr>\n",
       "      <th>2022-07-31</th>\n",
       "      <td>0.925597</td>\n",
       "    </tr>\n",
       "    <tr>\n",
       "      <th>2022-08-31</th>\n",
       "      <td>0.937031</td>\n",
       "    </tr>\n",
       "    <tr>\n",
       "      <th>2022-09-30</th>\n",
       "      <td>1.077379</td>\n",
       "    </tr>\n",
       "    <tr>\n",
       "      <th>2022-10-31</th>\n",
       "      <td>1.068505</td>\n",
       "    </tr>\n",
       "    <tr>\n",
       "      <th>2022-11-30</th>\n",
       "      <td>0.968569</td>\n",
       "    </tr>\n",
       "  </tbody>\n",
       "</table>\n",
       "<p>155 rows × 1 columns</p>\n",
       "</div>"
      ],
      "text/plain": [
       "               price\n",
       "2010-01-31       NaN\n",
       "2010-02-28       NaN\n",
       "2010-03-31       NaN\n",
       "2010-04-30       NaN\n",
       "2010-05-31       NaN\n",
       "...              ...\n",
       "2022-07-31  0.925597\n",
       "2022-08-31  0.937031\n",
       "2022-09-30  1.077379\n",
       "2022-10-31  1.068505\n",
       "2022-11-30  0.968569\n",
       "\n",
       "[155 rows x 1 columns]"
      ]
     },
     "execution_count": 105,
     "metadata": {},
     "output_type": "execute_result"
    }
   ],
   "source": [
    "momentum"
   ]
  },
  {
   "cell_type": "code",
   "execution_count": 107,
   "metadata": {},
   "outputs": [
    {
     "data": {
      "text/plain": [
       "2010-01-31          NaN\n",
       "2010-02-28          NaN\n",
       "2010-03-31          NaN\n",
       "2010-04-30          NaN\n",
       "2010-05-31          NaN\n",
       "                ...    \n",
       "2022-07-31    20.129408\n",
       "2022-08-31    18.861877\n",
       "2022-09-30    20.321399\n",
       "2022-10-31    21.713520\n",
       "2022-11-30    21.031051\n",
       "Name: price, Length: 155, dtype: float64"
      ]
     },
     "execution_count": 107,
     "metadata": {},
     "output_type": "execute_result"
    }
   ],
   "source": [
    "momentum.price.cumprod()#.plot()"
   ]
  },
  {
   "cell_type": "code",
   "execution_count": 108,
   "metadata": {},
   "outputs": [
    {
     "data": {
      "text/plain": [
       "<AxesSubplot:>"
      ]
     },
     "execution_count": 108,
     "metadata": {},
     "output_type": "execute_result"
    },
    {
     "data": {
      "image/png": "[encoded data removed]",
      "text/plain": [
       "<Figure size 432x288 with 1 Axes>"
      ]
     },
     "metadata": {
      "needs_background": "light"
     },
     "output_type": "display_data"
    }
   ],
   "source": [
    "momentum.price.cumprod().plot()"
   ]
  },
  {
   "cell_type": "code",
   "execution_count": 111,
   "metadata": {},
   "outputs": [
    {
     "name": "stdout",
     "output_type": "stream",
     "text": [
      "[*********************100%***********************]  1 of 1 completed\n"
     ]
    }
   ],
   "source": [
    "#performance comparisson \n",
    "nas_df = yf.download('^IXIC', start='2010-01-01')\n",
    "#nas_df.head(10)"
   ]
  },
  {
   "cell_type": "code",
   "execution_count": 112,
   "metadata": {},
   "outputs": [
    {
     "data": {
      "text/html": [
       "<div>\n",
       "<style scoped>\n",
       "    .dataframe tbody tr th:only-of-type {\n",
       "        vertical-align: middle;\n",
       "    }\n",
       "\n",
       "    .dataframe tbody tr th {\n",
       "        vertical-align: top;\n",
       "    }\n",
       "\n",
       "    .dataframe thead th {\n",
       "        text-align: right;\n",
       "    }\n",
       "</style>\n",
       "<table border=\"1\" class=\"dataframe\">\n",
       "  <thead>\n",
       "    <tr style=\"text-align: right;\">\n",
       "      <th></th>\n",
       "      <th>Open</th>\n",
       "      <th>High</th>\n",
       "      <th>Low</th>\n",
       "      <th>Close</th>\n",
       "      <th>Adj Close</th>\n",
       "      <th>Volume</th>\n",
       "    </tr>\n",
       "    <tr>\n",
       "      <th>Date</th>\n",
       "      <th></th>\n",
       "      <th></th>\n",
       "      <th></th>\n",
       "      <th></th>\n",
       "      <th></th>\n",
       "      <th></th>\n",
       "    </tr>\n",
       "  </thead>\n",
       "  <tbody>\n",
       "    <tr>\n",
       "      <th>2010-01-04</th>\n",
       "      <td>2294.409912</td>\n",
       "      <td>2311.149902</td>\n",
       "      <td>2294.409912</td>\n",
       "      <td>2308.419922</td>\n",
       "      <td>2308.419922</td>\n",
       "      <td>1931380000</td>\n",
       "    </tr>\n",
       "    <tr>\n",
       "      <th>2010-01-05</th>\n",
       "      <td>2307.270020</td>\n",
       "      <td>2313.729980</td>\n",
       "      <td>2295.620117</td>\n",
       "      <td>2308.709961</td>\n",
       "      <td>2308.709961</td>\n",
       "      <td>2367860000</td>\n",
       "    </tr>\n",
       "    <tr>\n",
       "      <th>2010-01-06</th>\n",
       "      <td>2307.709961</td>\n",
       "      <td>2314.070068</td>\n",
       "      <td>2295.679932</td>\n",
       "      <td>2301.090088</td>\n",
       "      <td>2301.090088</td>\n",
       "      <td>2253340000</td>\n",
       "    </tr>\n",
       "    <tr>\n",
       "      <th>2010-01-07</th>\n",
       "      <td>2298.090088</td>\n",
       "      <td>2301.300049</td>\n",
       "      <td>2285.219971</td>\n",
       "      <td>2300.050049</td>\n",
       "      <td>2300.050049</td>\n",
       "      <td>2270050000</td>\n",
       "    </tr>\n",
       "    <tr>\n",
       "      <th>2010-01-08</th>\n",
       "      <td>2292.239990</td>\n",
       "      <td>2317.600098</td>\n",
       "      <td>2290.610107</td>\n",
       "      <td>2317.169922</td>\n",
       "      <td>2317.169922</td>\n",
       "      <td>2145390000</td>\n",
       "    </tr>\n",
       "    <tr>\n",
       "      <th>2010-01-11</th>\n",
       "      <td>2324.780029</td>\n",
       "      <td>2326.280029</td>\n",
       "      <td>2302.209961</td>\n",
       "      <td>2312.409912</td>\n",
       "      <td>2312.409912</td>\n",
       "      <td>2077890000</td>\n",
       "    </tr>\n",
       "    <tr>\n",
       "      <th>2010-01-12</th>\n",
       "      <td>2297.280029</td>\n",
       "      <td>2298.850098</td>\n",
       "      <td>2272.699951</td>\n",
       "      <td>2282.310059</td>\n",
       "      <td>2282.310059</td>\n",
       "      <td>2368320000</td>\n",
       "    </tr>\n",
       "    <tr>\n",
       "      <th>2010-01-13</th>\n",
       "      <td>2289.459961</td>\n",
       "      <td>2313.030029</td>\n",
       "      <td>2274.120117</td>\n",
       "      <td>2307.899902</td>\n",
       "      <td>2307.899902</td>\n",
       "      <td>2318350000</td>\n",
       "    </tr>\n",
       "    <tr>\n",
       "      <th>2010-01-14</th>\n",
       "      <td>2303.310059</td>\n",
       "      <td>2322.560059</td>\n",
       "      <td>2303.290039</td>\n",
       "      <td>2316.739990</td>\n",
       "      <td>2316.739990</td>\n",
       "      <td>2254170000</td>\n",
       "    </tr>\n",
       "    <tr>\n",
       "      <th>2010-01-15</th>\n",
       "      <td>2316.979980</td>\n",
       "      <td>2322.540039</td>\n",
       "      <td>2279.199951</td>\n",
       "      <td>2287.989990</td>\n",
       "      <td>2287.989990</td>\n",
       "      <td>2637770000</td>\n",
       "    </tr>\n",
       "  </tbody>\n",
       "</table>\n",
       "</div>"
      ],
      "text/plain": [
       "                   Open         High          Low        Close    Adj Close  \\\n",
       "Date                                                                          \n",
       "2010-01-04  2294.409912  2311.149902  2294.409912  2308.419922  2308.419922   \n",
       "2010-01-05  2307.270020  2313.729980  2295.620117  2308.709961  2308.709961   \n",
       "2010-01-06  2307.709961  2314.070068  2295.679932  2301.090088  2301.090088   \n",
       "2010-01-07  2298.090088  2301.300049  2285.219971  2300.050049  2300.050049   \n",
       "2010-01-08  2292.239990  2317.600098  2290.610107  2317.169922  2317.169922   \n",
       "2010-01-11  2324.780029  2326.280029  2302.209961  2312.409912  2312.409912   \n",
       "2010-01-12  2297.280029  2298.850098  2272.699951  2282.310059  2282.310059   \n",
       "2010-01-13  2289.459961  2313.030029  2274.120117  2307.899902  2307.899902   \n",
       "2010-01-14  2303.310059  2322.560059  2303.290039  2316.739990  2316.739990   \n",
       "2010-01-15  2316.979980  2322.540039  2279.199951  2287.989990  2287.989990   \n",
       "\n",
       "                Volume  \n",
       "Date                    \n",
       "2010-01-04  1931380000  \n",
       "2010-01-05  2367860000  \n",
       "2010-01-06  2253340000  \n",
       "2010-01-07  2270050000  \n",
       "2010-01-08  2145390000  \n",
       "2010-01-11  2077890000  \n",
       "2010-01-12  2368320000  \n",
       "2010-01-13  2318350000  \n",
       "2010-01-14  2254170000  \n",
       "2010-01-15  2637770000  "
      ]
     },
     "execution_count": 112,
     "metadata": {},
     "output_type": "execute_result"
    }
   ],
   "source": [
    "nas_df.head(10)"
   ]
  },
  {
   "cell_type": "code",
   "execution_count": 114,
   "metadata": {},
   "outputs": [
    {
     "data": {
      "text/plain": [
       "Date\n",
       "2010-01-04         NaN\n",
       "2010-01-05    1.000126\n",
       "2010-01-06    0.996825\n",
       "2010-01-07    0.996374\n",
       "2010-01-08    1.003790\n",
       "                ...   \n",
       "2022-12-05    4.869106\n",
       "2022-12-06    4.771614\n",
       "2022-12-07    4.747208\n",
       "2022-12-08    4.800686\n",
       "2022-12-09    4.767166\n",
       "Name: Adj Close, Length: 3258, dtype: float64"
      ]
     },
     "execution_count": 114,
     "metadata": {},
     "output_type": "execute_result"
    }
   ],
   "source": [
    "(nas_df['Adj Close'].pct_change() + 1).cumprod()"
   ]
  },
  {
   "cell_type": "code",
   "execution_count": 115,
   "metadata": {},
   "outputs": [
    {
     "data": {
      "text/plain": [
       "<AxesSubplot:xlabel='Date'>"
      ]
     },
     "execution_count": 115,
     "metadata": {},
     "output_type": "execute_result"
    },
    {
     "data": {
      "image/png": "[encoded data removed]",
      "text/plain": [
       "<Figure size 432x288 with 1 Axes>"
      ]
     },
     "metadata": {
      "needs_background": "light"
     },
     "output_type": "display_data"
    }
   ],
   "source": [
    "(nas_df['Adj Close'].pct_change() + 1).cumprod().plot()"
   ]
  },
  {
   "cell_type": "code",
   "execution_count": 119,
   "metadata": {},
   "outputs": [
    {
     "data": {
      "text/plain": [
       "2010-01-31         NaN\n",
       "2010-02-28         NaN\n",
       "2010-03-31         NaN\n",
       "2010-04-30         NaN\n",
       "2010-05-31         NaN\n",
       "                ...   \n",
       "2022-07-31    5.070153\n",
       "2022-08-31    4.700188\n",
       "2022-09-30    5.016884\n",
       "2022-10-31    5.310398\n",
       "2022-11-30    5.090385\n",
       "Length: 155, dtype: float64"
      ]
     },
     "execution_count": 119,
     "metadata": {},
     "output_type": "execute_result"
    }
   ],
   "source": [
    "pd.Series([i- 0.01 for i in momentum.price], index=momentum.index).cumprod()"
   ]
  },
  {
   "cell_type": "code",
   "execution_count": null,
   "metadata": {},
   "outputs": [],
   "source": []
  }
 ],
 "metadata": {
  "kernelspec": {
   "display_name": "Python 3.9.1 64-bit",
   "language": "python",
   "name": "python3"
  },
  "language_info": {
   "codemirror_mode": {
    "name": "ipython",
    "version": 3
   },
   "file_extension": ".py",
   "mimetype": "text/x-python",
   "name": "python",
   "nbconvert_exporter": "python",
   "pygments_lexer": "ipython3",
   "version": "3.9.1"
  },
  "orig_nbformat": 4,
  "vscode": {
   "interpreter": {
    "hash": "81794d4967e6c3204c66dcd87b604927b115b27c00565d3d43f05ba2f3a2cb0d"
   }
  }
 },
 "nbformat": 4,
 "nbformat_minor": 2
}
