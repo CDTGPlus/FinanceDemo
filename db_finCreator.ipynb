{
 "cells": [
  {
   "cell_type": "markdown",
   "metadata": {},
   "source": [
    "### Stock DB with SQL"
   ]
  },
  {
   "cell_type": "code",
   "execution_count": 1,
   "metadata": {},
   "outputs": [],
   "source": [
    "import sqlalchemy\n",
    "import pandas as pd \n",
    "import yfinance as yf"
   ]
  },
  {
   "cell_type": "code",
   "execution_count": 2,
   "metadata": {},
   "outputs": [],
   "source": [
    "wiki = 'https://en.wikipedia.org/wiki/'"
   ]
  },
  {
   "cell_type": "code",
   "execution_count": 3,
   "metadata": {},
   "outputs": [],
   "source": [
    "import ssl\n",
    "ssl._create_default_https_context = ssl._create_unverified_context"
   ]
  },
  {
   "cell_type": "code",
   "execution_count": 4,
   "metadata": {},
   "outputs": [],
   "source": [
    "tickersDow = pd.read_html(wiki + 'Dow_Jones_Industrial_Average')[1].Symbol.to_list()"
   ]
  },
  {
   "cell_type": "code",
   "execution_count": 5,
   "metadata": {},
   "outputs": [
    {
     "data": {
      "text/plain": [
       "30"
      ]
     },
     "execution_count": 5,
     "metadata": {},
     "output_type": "execute_result"
    }
   ],
   "source": [
    "len(tickersDow)"
   ]
  },
  {
   "cell_type": "code",
   "execution_count": 6,
   "metadata": {},
   "outputs": [],
   "source": [
    "def getdata(tickers):\n",
    "    data = []\n",
    "    for ticker in tickers:\n",
    "        #reset the index in order to obtain date as a column \n",
    "        data.append(yf.download(ticker).reset_index())\n",
    "    return data"
   ]
  },
  {
   "cell_type": "code",
   "execution_count": 7,
   "metadata": {},
   "outputs": [
    {
     "name": "stdout",
     "output_type": "stream",
     "text": [
      "[*********************100%***********************]  1 of 1 completed\n",
      "[*********************100%***********************]  1 of 1 completed\n",
      "[*********************100%***********************]  1 of 1 completed\n",
      "[*********************100%***********************]  1 of 1 completed\n",
      "[*********************100%***********************]  1 of 1 completed\n",
      "[*********************100%***********************]  1 of 1 completed\n",
      "[*********************100%***********************]  1 of 1 completed\n",
      "[*********************100%***********************]  1 of 1 completed\n",
      "[*********************100%***********************]  1 of 1 completed\n",
      "[*********************100%***********************]  1 of 1 completed\n",
      "[*********************100%***********************]  1 of 1 completed\n",
      "[*********************100%***********************]  1 of 1 completed\n",
      "[*********************100%***********************]  1 of 1 completed\n",
      "[*********************100%***********************]  1 of 1 completed\n",
      "[*********************100%***********************]  1 of 1 completed\n",
      "[*********************100%***********************]  1 of 1 completed\n",
      "[*********************100%***********************]  1 of 1 completed\n",
      "[*********************100%***********************]  1 of 1 completed\n",
      "[*********************100%***********************]  1 of 1 completed\n",
      "[*********************100%***********************]  1 of 1 completed\n",
      "[*********************100%***********************]  1 of 1 completed\n",
      "[*********************100%***********************]  1 of 1 completed\n",
      "[*********************100%***********************]  1 of 1 completed\n",
      "[*********************100%***********************]  1 of 1 completed\n",
      "[*********************100%***********************]  1 of 1 completed\n",
      "[*********************100%***********************]  1 of 1 completed\n",
      "[*********************100%***********************]  1 of 1 completed\n",
      "[*********************100%***********************]  1 of 1 completed\n",
      "[*********************100%***********************]  1 of 1 completed\n",
      "[*********************100%***********************]  1 of 1 completed\n"
     ]
    }
   ],
   "source": [
    "US = getdata(tickersDow)"
   ]
  },
  {
   "cell_type": "code",
   "execution_count": 8,
   "metadata": {},
   "outputs": [
    {
     "data": {
      "text/plain": [
       "30"
      ]
     },
     "execution_count": 8,
     "metadata": {},
     "output_type": "execute_result"
    }
   ],
   "source": [
    "len(US)"
   ]
  },
  {
   "cell_type": "code",
   "execution_count": 9,
   "metadata": {},
   "outputs": [],
   "source": [
    "#store the list of df in a database\n",
    "\n",
    "def createengine(name):\n",
    "    engine = sqlalchemy.create_engine('sqlite:///'+name)\n",
    "    return engine"
   ]
  },
  {
   "cell_type": "code",
   "execution_count": 10,
   "metadata": {},
   "outputs": [],
   "source": [
    "USengine = createengine('USA')"
   ]
  },
  {
   "cell_type": "code",
   "execution_count": 11,
   "metadata": {},
   "outputs": [],
   "source": [
    "def toSQL(frames, symbols, engine):\n",
    "    for frame, symbol in zip(frames, symbols):\n",
    "        frame.to_sql(symbol, engine, index=False)\n",
    "    print('Data Successfully Imported')"
   ]
  },
  {
   "cell_type": "code",
   "execution_count": 12,
   "metadata": {},
   "outputs": [
    {
     "name": "stdout",
     "output_type": "stream",
     "text": [
      "Data Successfully Imported\n"
     ]
    }
   ],
   "source": [
    "toSQL(US, tickersDow, USengine)"
   ]
  },
  {
   "cell_type": "code",
   "execution_count": 13,
   "metadata": {},
   "outputs": [
    {
     "data": {
      "text/html": [
       "<div>\n",
       "<style scoped>\n",
       "    .dataframe tbody tr th:only-of-type {\n",
       "        vertical-align: middle;\n",
       "    }\n",
       "\n",
       "    .dataframe tbody tr th {\n",
       "        vertical-align: top;\n",
       "    }\n",
       "\n",
       "    .dataframe thead th {\n",
       "        text-align: right;\n",
       "    }\n",
       "</style>\n",
       "<table border=\"1\" class=\"dataframe\">\n",
       "  <thead>\n",
       "    <tr style=\"text-align: right;\">\n",
       "      <th></th>\n",
       "      <th>Date</th>\n",
       "      <th>Open</th>\n",
       "      <th>High</th>\n",
       "      <th>Low</th>\n",
       "      <th>Close</th>\n",
       "      <th>Adj Close</th>\n",
       "      <th>Volume</th>\n",
       "    </tr>\n",
       "  </thead>\n",
       "  <tbody>\n",
       "    <tr>\n",
       "      <th>0</th>\n",
       "      <td>1980-12-12</td>\n",
       "      <td>0.128348</td>\n",
       "      <td>0.128906</td>\n",
       "      <td>0.128348</td>\n",
       "      <td>0.128348</td>\n",
       "      <td>0.100178</td>\n",
       "      <td>469033600</td>\n",
       "    </tr>\n",
       "    <tr>\n",
       "      <th>1</th>\n",
       "      <td>1980-12-15</td>\n",
       "      <td>0.122210</td>\n",
       "      <td>0.122210</td>\n",
       "      <td>0.121652</td>\n",
       "      <td>0.121652</td>\n",
       "      <td>0.094952</td>\n",
       "      <td>175884800</td>\n",
       "    </tr>\n",
       "    <tr>\n",
       "      <th>2</th>\n",
       "      <td>1980-12-16</td>\n",
       "      <td>0.113281</td>\n",
       "      <td>0.113281</td>\n",
       "      <td>0.112723</td>\n",
       "      <td>0.112723</td>\n",
       "      <td>0.087983</td>\n",
       "      <td>105728000</td>\n",
       "    </tr>\n",
       "    <tr>\n",
       "      <th>3</th>\n",
       "      <td>1980-12-17</td>\n",
       "      <td>0.115513</td>\n",
       "      <td>0.116071</td>\n",
       "      <td>0.115513</td>\n",
       "      <td>0.115513</td>\n",
       "      <td>0.090160</td>\n",
       "      <td>86441600</td>\n",
       "    </tr>\n",
       "    <tr>\n",
       "      <th>4</th>\n",
       "      <td>1980-12-18</td>\n",
       "      <td>0.118862</td>\n",
       "      <td>0.119420</td>\n",
       "      <td>0.118862</td>\n",
       "      <td>0.118862</td>\n",
       "      <td>0.092774</td>\n",
       "      <td>73449600</td>\n",
       "    </tr>\n",
       "    <tr>\n",
       "      <th>...</th>\n",
       "      <td>...</td>\n",
       "      <td>...</td>\n",
       "      <td>...</td>\n",
       "      <td>...</td>\n",
       "      <td>...</td>\n",
       "      <td>...</td>\n",
       "      <td>...</td>\n",
       "    </tr>\n",
       "    <tr>\n",
       "      <th>10455</th>\n",
       "      <td>2022-06-01</td>\n",
       "      <td>149.899994</td>\n",
       "      <td>151.740005</td>\n",
       "      <td>147.679993</td>\n",
       "      <td>148.710007</td>\n",
       "      <td>148.710007</td>\n",
       "      <td>74286600</td>\n",
       "    </tr>\n",
       "    <tr>\n",
       "      <th>10456</th>\n",
       "      <td>2022-06-02</td>\n",
       "      <td>147.830002</td>\n",
       "      <td>151.270004</td>\n",
       "      <td>146.860001</td>\n",
       "      <td>151.210007</td>\n",
       "      <td>151.210007</td>\n",
       "      <td>72348100</td>\n",
       "    </tr>\n",
       "    <tr>\n",
       "      <th>10457</th>\n",
       "      <td>2022-06-03</td>\n",
       "      <td>146.899994</td>\n",
       "      <td>147.970001</td>\n",
       "      <td>144.460007</td>\n",
       "      <td>145.380005</td>\n",
       "      <td>145.380005</td>\n",
       "      <td>88471400</td>\n",
       "    </tr>\n",
       "    <tr>\n",
       "      <th>10458</th>\n",
       "      <td>2022-06-06</td>\n",
       "      <td>147.029999</td>\n",
       "      <td>148.570007</td>\n",
       "      <td>144.899994</td>\n",
       "      <td>146.139999</td>\n",
       "      <td>146.139999</td>\n",
       "      <td>71598400</td>\n",
       "    </tr>\n",
       "    <tr>\n",
       "      <th>10459</th>\n",
       "      <td>2022-06-07</td>\n",
       "      <td>144.350006</td>\n",
       "      <td>149.000000</td>\n",
       "      <td>144.100006</td>\n",
       "      <td>148.710007</td>\n",
       "      <td>148.710007</td>\n",
       "      <td>67713600</td>\n",
       "    </tr>\n",
       "  </tbody>\n",
       "</table>\n",
       "<p>10460 rows × 7 columns</p>\n",
       "</div>"
      ],
      "text/plain": [
       "            Date        Open        High         Low       Close   Adj Close  \\\n",
       "0     1980-12-12    0.128348    0.128906    0.128348    0.128348    0.100178   \n",
       "1     1980-12-15    0.122210    0.122210    0.121652    0.121652    0.094952   \n",
       "2     1980-12-16    0.113281    0.113281    0.112723    0.112723    0.087983   \n",
       "3     1980-12-17    0.115513    0.116071    0.115513    0.115513    0.090160   \n",
       "4     1980-12-18    0.118862    0.119420    0.118862    0.118862    0.092774   \n",
       "...          ...         ...         ...         ...         ...         ...   \n",
       "10455 2022-06-01  149.899994  151.740005  147.679993  148.710007  148.710007   \n",
       "10456 2022-06-02  147.830002  151.270004  146.860001  151.210007  151.210007   \n",
       "10457 2022-06-03  146.899994  147.970001  144.460007  145.380005  145.380005   \n",
       "10458 2022-06-06  147.029999  148.570007  144.899994  146.139999  146.139999   \n",
       "10459 2022-06-07  144.350006  149.000000  144.100006  148.710007  148.710007   \n",
       "\n",
       "          Volume  \n",
       "0      469033600  \n",
       "1      175884800  \n",
       "2      105728000  \n",
       "3       86441600  \n",
       "4       73449600  \n",
       "...          ...  \n",
       "10455   74286600  \n",
       "10456   72348100  \n",
       "10457   88471400  \n",
       "10458   71598400  \n",
       "10459   67713600  \n",
       "\n",
       "[10460 rows x 7 columns]"
      ]
     },
     "execution_count": 13,
     "metadata": {},
     "output_type": "execute_result"
    }
   ],
   "source": [
    "pd.read_sql('AAPL',USengine)"
   ]
  },
  {
   "cell_type": "code",
   "execution_count": 14,
   "metadata": {},
   "outputs": [
    {
     "data": {
      "text/html": [
       "<div>\n",
       "<style scoped>\n",
       "    .dataframe tbody tr th:only-of-type {\n",
       "        vertical-align: middle;\n",
       "    }\n",
       "\n",
       "    .dataframe tbody tr th {\n",
       "        vertical-align: top;\n",
       "    }\n",
       "\n",
       "    .dataframe thead th {\n",
       "        text-align: right;\n",
       "    }\n",
       "</style>\n",
       "<table border=\"1\" class=\"dataframe\">\n",
       "  <thead>\n",
       "    <tr style=\"text-align: right;\">\n",
       "      <th></th>\n",
       "      <th>Date</th>\n",
       "      <th>Open</th>\n",
       "      <th>High</th>\n",
       "      <th>Low</th>\n",
       "      <th>Close</th>\n",
       "      <th>Adj Close</th>\n",
       "      <th>Volume</th>\n",
       "    </tr>\n",
       "  </thead>\n",
       "  <tbody>\n",
       "    <tr>\n",
       "      <th>0</th>\n",
       "      <td>1982-10-04 00:00:00.000000</td>\n",
       "      <td>0.082589</td>\n",
       "      <td>0.084263</td>\n",
       "      <td>0.080357</td>\n",
       "      <td>0.083705</td>\n",
       "      <td>0.065334</td>\n",
       "      <td>69328000</td>\n",
       "    </tr>\n",
       "    <tr>\n",
       "      <th>1</th>\n",
       "      <td>1982-10-05 00:00:00.000000</td>\n",
       "      <td>0.083705</td>\n",
       "      <td>0.085938</td>\n",
       "      <td>0.083705</td>\n",
       "      <td>0.084263</td>\n",
       "      <td>0.065769</td>\n",
       "      <td>80236800</td>\n",
       "    </tr>\n",
       "    <tr>\n",
       "      <th>2</th>\n",
       "      <td>1982-10-06 00:00:00.000000</td>\n",
       "      <td>0.084263</td>\n",
       "      <td>0.090402</td>\n",
       "      <td>0.084263</td>\n",
       "      <td>0.090402</td>\n",
       "      <td>0.070561</td>\n",
       "      <td>173532800</td>\n",
       "    </tr>\n",
       "    <tr>\n",
       "      <th>3</th>\n",
       "      <td>1982-10-07 00:00:00.000000</td>\n",
       "      <td>0.090960</td>\n",
       "      <td>0.098214</td>\n",
       "      <td>0.090960</td>\n",
       "      <td>0.097656</td>\n",
       "      <td>0.076223</td>\n",
       "      <td>311673600</td>\n",
       "    </tr>\n",
       "    <tr>\n",
       "      <th>4</th>\n",
       "      <td>1982-10-08 00:00:00.000000</td>\n",
       "      <td>0.097656</td>\n",
       "      <td>0.105469</td>\n",
       "      <td>0.097098</td>\n",
       "      <td>0.104911</td>\n",
       "      <td>0.081885</td>\n",
       "      <td>275542400</td>\n",
       "    </tr>\n",
       "    <tr>\n",
       "      <th>...</th>\n",
       "      <td>...</td>\n",
       "      <td>...</td>\n",
       "      <td>...</td>\n",
       "      <td>...</td>\n",
       "      <td>...</td>\n",
       "      <td>...</td>\n",
       "      <td>...</td>\n",
       "    </tr>\n",
       "    <tr>\n",
       "      <th>4751</th>\n",
       "      <td>2022-05-25 00:00:00.000000</td>\n",
       "      <td>138.429993</td>\n",
       "      <td>141.789993</td>\n",
       "      <td>138.339996</td>\n",
       "      <td>140.520004</td>\n",
       "      <td>140.520004</td>\n",
       "      <td>92482700</td>\n",
       "    </tr>\n",
       "    <tr>\n",
       "      <th>4752</th>\n",
       "      <td>2022-05-26 00:00:00.000000</td>\n",
       "      <td>137.389999</td>\n",
       "      <td>144.339996</td>\n",
       "      <td>137.139999</td>\n",
       "      <td>143.779999</td>\n",
       "      <td>143.779999</td>\n",
       "      <td>90601500</td>\n",
       "    </tr>\n",
       "    <tr>\n",
       "      <th>4753</th>\n",
       "      <td>2022-05-27 00:00:00.000000</td>\n",
       "      <td>145.389999</td>\n",
       "      <td>149.679993</td>\n",
       "      <td>145.259995</td>\n",
       "      <td>149.639999</td>\n",
       "      <td>149.639999</td>\n",
       "      <td>90978500</td>\n",
       "    </tr>\n",
       "    <tr>\n",
       "      <th>4754</th>\n",
       "      <td>2022-06-02 00:00:00.000000</td>\n",
       "      <td>147.830002</td>\n",
       "      <td>151.270004</td>\n",
       "      <td>146.860001</td>\n",
       "      <td>151.210007</td>\n",
       "      <td>151.210007</td>\n",
       "      <td>72348100</td>\n",
       "    </tr>\n",
       "    <tr>\n",
       "      <th>4755</th>\n",
       "      <td>2022-06-07 00:00:00.000000</td>\n",
       "      <td>144.350006</td>\n",
       "      <td>149.000000</td>\n",
       "      <td>144.100006</td>\n",
       "      <td>148.710007</td>\n",
       "      <td>148.710007</td>\n",
       "      <td>67713600</td>\n",
       "    </tr>\n",
       "  </tbody>\n",
       "</table>\n",
       "<p>4756 rows × 7 columns</p>\n",
       "</div>"
      ],
      "text/plain": [
       "                            Date        Open        High         Low  \\\n",
       "0     1982-10-04 00:00:00.000000    0.082589    0.084263    0.080357   \n",
       "1     1982-10-05 00:00:00.000000    0.083705    0.085938    0.083705   \n",
       "2     1982-10-06 00:00:00.000000    0.084263    0.090402    0.084263   \n",
       "3     1982-10-07 00:00:00.000000    0.090960    0.098214    0.090960   \n",
       "4     1982-10-08 00:00:00.000000    0.097656    0.105469    0.097098   \n",
       "...                          ...         ...         ...         ...   \n",
       "4751  2022-05-25 00:00:00.000000  138.429993  141.789993  138.339996   \n",
       "4752  2022-05-26 00:00:00.000000  137.389999  144.339996  137.139999   \n",
       "4753  2022-05-27 00:00:00.000000  145.389999  149.679993  145.259995   \n",
       "4754  2022-06-02 00:00:00.000000  147.830002  151.270004  146.860001   \n",
       "4755  2022-06-07 00:00:00.000000  144.350006  149.000000  144.100006   \n",
       "\n",
       "           Close   Adj Close     Volume  \n",
       "0       0.083705    0.065334   69328000  \n",
       "1       0.084263    0.065769   80236800  \n",
       "2       0.090402    0.070561  173532800  \n",
       "3       0.097656    0.076223  311673600  \n",
       "4       0.104911    0.081885  275542400  \n",
       "...          ...         ...        ...  \n",
       "4751  140.520004  140.520004   92482700  \n",
       "4752  143.779999  143.779999   90601500  \n",
       "4753  149.639999  149.639999   90978500  \n",
       "4754  151.210007  151.210007   72348100  \n",
       "4755  148.710007  148.710007   67713600  \n",
       "\n",
       "[4756 rows x 7 columns]"
      ]
     },
     "execution_count": 14,
     "metadata": {},
     "output_type": "execute_result"
    }
   ],
   "source": [
    "pd.read_sql('SELECT * FROM AAPL WHERE Close > Open', USengine)"
   ]
  },
  {
   "cell_type": "code",
   "execution_count": null,
   "metadata": {},
   "outputs": [],
   "source": []
  }
 ],
 "metadata": {
  "interpreter": {
   "hash": "81794d4967e6c3204c66dcd87b604927b115b27c00565d3d43f05ba2f3a2cb0d"
  },
  "kernelspec": {
   "display_name": "Python 3.9.1 64-bit",
   "language": "python",
   "name": "python3"
  },
  "language_info": {
   "codemirror_mode": {
    "name": "ipython",
    "version": 3
   },
   "file_extension": ".py",
   "mimetype": "text/x-python",
   "name": "python",
   "nbconvert_exporter": "python",
   "pygments_lexer": "ipython3",
   "version": "3.9.1"
  },
  "orig_nbformat": 4
 },
 "nbformat": 4,
 "nbformat_minor": 2
}
