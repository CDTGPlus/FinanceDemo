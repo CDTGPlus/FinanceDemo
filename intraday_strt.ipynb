{
 "cells": [
  {
   "cell_type": "markdown",
   "metadata": {},
   "source": [
    "### Intraday Trading Strategy"
   ]
  },
  {
   "cell_type": "markdown",
   "metadata": {},
   "source": [
    "Buying Condition: If the return after two hours breaks x threshold, buy the asset \n",
    "\n",
    "Selling Condition: The asset drops until a certain xn threshold OR asset climbs to xn threshold "
   ]
  },
  {
   "cell_type": "code",
   "execution_count": 34,
   "metadata": {},
   "outputs": [],
   "source": [
    "import yfinance as yf \n",
    "import pandas as pd \n",
    "import datetime as dt\n",
    "import numpy as np"
   ]
  },
  {
   "cell_type": "code",
   "execution_count": 2,
   "metadata": {},
   "outputs": [
    {
     "name": "stdout",
     "output_type": "stream",
     "text": [
      "[*********************100%***********************]  1 of 1 completed\n"
     ]
    }
   ],
   "source": [
    "asset = 'TSLA'\n",
    "intraday = yf.download(asset, start='2022-02-07', end='2022-02-10', interval='1m')"
   ]
  },
  {
   "cell_type": "code",
   "execution_count": 3,
   "metadata": {},
   "outputs": [
    {
     "data": {
      "text/html": [
       "<div>\n",
       "<style scoped>\n",
       "    .dataframe tbody tr th:only-of-type {\n",
       "        vertical-align: middle;\n",
       "    }\n",
       "\n",
       "    .dataframe tbody tr th {\n",
       "        vertical-align: top;\n",
       "    }\n",
       "\n",
       "    .dataframe thead th {\n",
       "        text-align: right;\n",
       "    }\n",
       "</style>\n",
       "<table border=\"1\" class=\"dataframe\">\n",
       "  <thead>\n",
       "    <tr style=\"text-align: right;\">\n",
       "      <th></th>\n",
       "      <th>Open</th>\n",
       "      <th>High</th>\n",
       "      <th>Low</th>\n",
       "      <th>Close</th>\n",
       "      <th>Adj Close</th>\n",
       "      <th>Volume</th>\n",
       "    </tr>\n",
       "    <tr>\n",
       "      <th>Datetime</th>\n",
       "      <th></th>\n",
       "      <th></th>\n",
       "      <th></th>\n",
       "      <th></th>\n",
       "      <th></th>\n",
       "      <th></th>\n",
       "    </tr>\n",
       "  </thead>\n",
       "  <tbody>\n",
       "    <tr>\n",
       "      <th>2022-02-07 09:30:00-05:00</th>\n",
       "      <td>923.789978</td>\n",
       "      <td>924.579895</td>\n",
       "      <td>918.340027</td>\n",
       "      <td>922.809998</td>\n",
       "      <td>922.809998</td>\n",
       "      <td>652911</td>\n",
       "    </tr>\n",
       "    <tr>\n",
       "      <th>2022-02-07 09:31:00-05:00</th>\n",
       "      <td>922.500000</td>\n",
       "      <td>927.000000</td>\n",
       "      <td>921.500122</td>\n",
       "      <td>924.659973</td>\n",
       "      <td>924.659973</td>\n",
       "      <td>128771</td>\n",
       "    </tr>\n",
       "    <tr>\n",
       "      <th>2022-02-07 09:32:00-05:00</th>\n",
       "      <td>925.510010</td>\n",
       "      <td>929.066528</td>\n",
       "      <td>924.840027</td>\n",
       "      <td>927.010498</td>\n",
       "      <td>927.010498</td>\n",
       "      <td>162178</td>\n",
       "    </tr>\n",
       "    <tr>\n",
       "      <th>2022-02-07 09:33:00-05:00</th>\n",
       "      <td>927.190002</td>\n",
       "      <td>928.200012</td>\n",
       "      <td>922.510071</td>\n",
       "      <td>922.566772</td>\n",
       "      <td>922.566772</td>\n",
       "      <td>129453</td>\n",
       "    </tr>\n",
       "    <tr>\n",
       "      <th>2022-02-07 09:34:00-05:00</th>\n",
       "      <td>922.510010</td>\n",
       "      <td>922.979980</td>\n",
       "      <td>919.330078</td>\n",
       "      <td>920.469971</td>\n",
       "      <td>920.469971</td>\n",
       "      <td>121114</td>\n",
       "    </tr>\n",
       "    <tr>\n",
       "      <th>...</th>\n",
       "      <td>...</td>\n",
       "      <td>...</td>\n",
       "      <td>...</td>\n",
       "      <td>...</td>\n",
       "      <td>...</td>\n",
       "      <td>...</td>\n",
       "    </tr>\n",
       "    <tr>\n",
       "      <th>2022-02-09 15:56:00-05:00</th>\n",
       "      <td>931.599976</td>\n",
       "      <td>932.000000</td>\n",
       "      <td>931.330017</td>\n",
       "      <td>931.460022</td>\n",
       "      <td>931.460022</td>\n",
       "      <td>57791</td>\n",
       "    </tr>\n",
       "    <tr>\n",
       "      <th>2022-02-09 15:57:00-05:00</th>\n",
       "      <td>931.469971</td>\n",
       "      <td>931.659973</td>\n",
       "      <td>930.919983</td>\n",
       "      <td>931.479980</td>\n",
       "      <td>931.479980</td>\n",
       "      <td>68651</td>\n",
       "    </tr>\n",
       "    <tr>\n",
       "      <th>2022-02-09 15:58:00-05:00</th>\n",
       "      <td>931.525024</td>\n",
       "      <td>931.630005</td>\n",
       "      <td>930.150085</td>\n",
       "      <td>930.500000</td>\n",
       "      <td>930.500000</td>\n",
       "      <td>99340</td>\n",
       "    </tr>\n",
       "    <tr>\n",
       "      <th>2022-02-09 15:59:00-05:00</th>\n",
       "      <td>930.840027</td>\n",
       "      <td>932.000000</td>\n",
       "      <td>930.640015</td>\n",
       "      <td>931.989990</td>\n",
       "      <td>931.989990</td>\n",
       "      <td>172355</td>\n",
       "    </tr>\n",
       "    <tr>\n",
       "      <th>2022-03-02 16:00:00-05:00</th>\n",
       "      <td>879.890015</td>\n",
       "      <td>879.890015</td>\n",
       "      <td>879.890015</td>\n",
       "      <td>879.890015</td>\n",
       "      <td>879.890015</td>\n",
       "      <td>0</td>\n",
       "    </tr>\n",
       "  </tbody>\n",
       "</table>\n",
       "<p>1168 rows × 6 columns</p>\n",
       "</div>"
      ],
      "text/plain": [
       "                                 Open        High         Low       Close  \\\n",
       "Datetime                                                                    \n",
       "2022-02-07 09:30:00-05:00  923.789978  924.579895  918.340027  922.809998   \n",
       "2022-02-07 09:31:00-05:00  922.500000  927.000000  921.500122  924.659973   \n",
       "2022-02-07 09:32:00-05:00  925.510010  929.066528  924.840027  927.010498   \n",
       "2022-02-07 09:33:00-05:00  927.190002  928.200012  922.510071  922.566772   \n",
       "2022-02-07 09:34:00-05:00  922.510010  922.979980  919.330078  920.469971   \n",
       "...                               ...         ...         ...         ...   \n",
       "2022-02-09 15:56:00-05:00  931.599976  932.000000  931.330017  931.460022   \n",
       "2022-02-09 15:57:00-05:00  931.469971  931.659973  930.919983  931.479980   \n",
       "2022-02-09 15:58:00-05:00  931.525024  931.630005  930.150085  930.500000   \n",
       "2022-02-09 15:59:00-05:00  930.840027  932.000000  930.640015  931.989990   \n",
       "2022-03-02 16:00:00-05:00  879.890015  879.890015  879.890015  879.890015   \n",
       "\n",
       "                            Adj Close  Volume  \n",
       "Datetime                                       \n",
       "2022-02-07 09:30:00-05:00  922.809998  652911  \n",
       "2022-02-07 09:31:00-05:00  924.659973  128771  \n",
       "2022-02-07 09:32:00-05:00  927.010498  162178  \n",
       "2022-02-07 09:33:00-05:00  922.566772  129453  \n",
       "2022-02-07 09:34:00-05:00  920.469971  121114  \n",
       "...                               ...     ...  \n",
       "2022-02-09 15:56:00-05:00  931.460022   57791  \n",
       "2022-02-09 15:57:00-05:00  931.479980   68651  \n",
       "2022-02-09 15:58:00-05:00  930.500000   99340  \n",
       "2022-02-09 15:59:00-05:00  931.989990  172355  \n",
       "2022-03-02 16:00:00-05:00  879.890015       0  \n",
       "\n",
       "[1168 rows x 6 columns]"
      ]
     },
     "execution_count": 3,
     "metadata": {},
     "output_type": "execute_result"
    }
   ],
   "source": [
    "intraday"
   ]
  },
  {
   "cell_type": "code",
   "execution_count": 48,
   "metadata": {},
   "outputs": [],
   "source": [
    "def IntradayTrend(df,entry,exit):\n",
    "    ret_120min = df.iloc[120].Open / df.iloc[0].Open -1\n",
    "    ticketret = df.Open.pct_change()\n",
    "    exitprice = 0\n",
    "    if ret_120min > entry:\n",
    "        buyprice = df.iloc[121].Open\n",
    "        buytime = df.iloc[121].name\n",
    "        cumulated = (ticketret.loc[buytime:] + 1).cumprod() - 1 \n",
    "        exittime = cumulated[(cumulated < -exit) | (cumulated > exit)].first_valid_index()\n",
    "        if exittime == None:\n",
    "            exitprice = df.iloc[-1].Open\n",
    "        else:\n",
    "            exitprice = df.loc[exittime].shift(-1).Open\n",
    "        profit = (exitprice - buyprice)\n",
    "        profitrel = (profit / buyprice)\n",
    "        return profitrel\n",
    "    else:\n",
    "        return None"
   ]
  },
  {
   "cell_type": "code",
   "execution_count": 17,
   "metadata": {},
   "outputs": [
    {
     "name": "stdout",
     "output_type": "stream",
     "text": [
      "[*********************100%***********************]  1 of 1 completed\n"
     ]
    }
   ],
   "source": [
    "datesframe = yf.download(asset,start='2022-02-07', end='2022-02-28')"
   ]
  },
  {
   "cell_type": "code",
   "execution_count": 18,
   "metadata": {},
   "outputs": [
    {
     "data": {
      "text/plain": [
       "DatetimeIndex(['2022-02-07', '2022-02-08', '2022-02-09', '2022-02-10',\n",
       "               '2022-02-11', '2022-02-14', '2022-02-15', '2022-02-16',\n",
       "               '2022-02-17', '2022-02-18', '2022-02-22', '2022-02-23',\n",
       "               '2022-02-24', '2022-02-25'],\n",
       "              dtype='datetime64[ns]', name='Date', freq=None)"
      ]
     },
     "execution_count": 18,
     "metadata": {},
     "output_type": "execute_result"
    }
   ],
   "source": [
    "datesframe.index"
   ]
  },
  {
   "cell_type": "code",
   "execution_count": 19,
   "metadata": {},
   "outputs": [
    {
     "name": "stdout",
     "output_type": "stream",
     "text": [
      "[*********************100%***********************]  1 of 1 completed\n",
      "[*********************100%***********************]  1 of 1 completed\n",
      "[*********************100%***********************]  1 of 1 completed\n",
      "[*********************100%***********************]  1 of 1 completed\n",
      "[*********************100%***********************]  1 of 1 completed\n",
      "[*********************100%***********************]  1 of 1 completed\n",
      "[*********************100%***********************]  1 of 1 completed\n",
      "[*********************100%***********************]  1 of 1 completed\n",
      "[*********************100%***********************]  1 of 1 completed\n",
      "[*********************100%***********************]  1 of 1 completed\n",
      "[*********************100%***********************]  1 of 1 completed\n",
      "[*********************100%***********************]  1 of 1 completed\n",
      "[*********************100%***********************]  1 of 1 completed\n",
      "[*********************100%***********************]  1 of 1 completed\n"
     ]
    }
   ],
   "source": [
    "frames = []\n",
    "for i in datesframe.index:\n",
    "    frames.append(yf.download(asset,start=i,end=i+dt.timedelta(days=1),interval='1m'))"
   ]
  },
  {
   "cell_type": "code",
   "execution_count": 49,
   "metadata": {},
   "outputs": [],
   "source": [
    "returns = []\n",
    "\n",
    "for i in frames:\n",
    "    returns.append(IntradayTrend(i,0.01,0.01))"
   ]
  },
  {
   "cell_type": "code",
   "execution_count": 50,
   "metadata": {},
   "outputs": [
    {
     "data": {
      "text/plain": [
       "[None,\n",
       " -0.041618518629318285,\n",
       " None,\n",
       " -0.006458834082976484,\n",
       " None,\n",
       " -0.009322672721751957,\n",
       " -0.03993494307185804,\n",
       " None,\n",
       " None,\n",
       " None,\n",
       " None,\n",
       " None,\n",
       " -0.01130928432347859,\n",
       " None]"
      ]
     },
     "execution_count": 50,
     "metadata": {},
     "output_type": "execute_result"
    }
   ],
   "source": [
    "returns"
   ]
  },
  {
   "cell_type": "code",
   "execution_count": null,
   "metadata": {},
   "outputs": [],
   "source": []
  }
 ],
 "metadata": {
  "interpreter": {
   "hash": "63fd5069d213b44bf678585dea6b12cceca9941eaf7f819626cde1f2670de90d"
  },
  "kernelspec": {
   "display_name": "Python 3.9.1 64-bit",
   "language": "python",
   "name": "python3"
  },
  "language_info": {
   "codemirror_mode": {
    "name": "ipython",
    "version": 3
   },
   "file_extension": ".py",
   "mimetype": "text/x-python",
   "name": "python",
   "nbconvert_exporter": "python",
   "pygments_lexer": "ipython3",
   "version": "3.9.1"
  },
  "orig_nbformat": 4
 },
 "nbformat": 4,
 "nbformat_minor": 2
}
