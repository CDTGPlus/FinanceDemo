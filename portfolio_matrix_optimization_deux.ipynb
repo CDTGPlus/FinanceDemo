{
 "cells": [
  {
   "attachments": {},
   "cell_type": "markdown",
   "metadata": {},
   "source": [
    "### Portfolio Theory matrix Part Deux\n",
    "### Optimize Portfolio weights using Matrix Algebra"
   ]
  },
  {
   "cell_type": "code",
   "execution_count": 1,
   "metadata": {},
   "outputs": [],
   "source": [
    "import yfinance as yf\n",
    "import numpy as np\n",
    "import pandas as pd \n",
    "from scipy.optimize import minimize"
   ]
  },
  {
   "cell_type": "code",
   "execution_count": 2,
   "metadata": {},
   "outputs": [
    {
     "name": "stdout",
     "output_type": "stream",
     "text": [
      "[*********************100%***********************]  2 of 2 completed\n"
     ]
    }
   ],
   "source": [
    "###import sp 500 and gold \n",
    "tickers = ['^GSPC','GC=F']\n",
    "df = yf.download(tickers,start='2010-01-01')['Adj Close']"
   ]
  },
  {
   "cell_type": "code",
   "execution_count": 4,
   "metadata": {},
   "outputs": [],
   "source": [
    "#log returns \n",
    "ret_df =np.log(df/df.shift(1))"
   ]
  },
  {
   "cell_type": "code",
   "execution_count": 7,
   "metadata": {},
   "outputs": [
    {
     "data": {
      "text/plain": [
       "<AxesSubplot:xlabel='Date'>"
      ]
     },
     "execution_count": 7,
     "metadata": {},
     "output_type": "execute_result"
    },
    {
     "data": {
      "image/png": "[encoded data removed]",
      "text/plain": [
       "<Figure size 432x288 with 1 Axes>"
      ]
     },
     "metadata": {
      "needs_background": "light"
     },
     "output_type": "display_data"
    }
   ],
   "source": [
    "ret_df.cumsum().plot()"
   ]
  },
  {
   "cell_type": "code",
   "execution_count": 8,
   "metadata": {},
   "outputs": [
    {
     "data": {
      "text/plain": [
       "array([0.5, 0.5])"
      ]
     },
     "execution_count": 8,
     "metadata": {},
     "output_type": "execute_result"
    }
   ],
   "source": [
    "#weights vector \n",
    "W = np.ones(len(ret_df.columns))/np.ones(len(ret_df.columns)).sum()\n",
    "W"
   ]
  },
  {
   "cell_type": "code",
   "execution_count": 9,
   "metadata": {},
   "outputs": [],
   "source": [
    "#claculate the Sharpe ratio\n",
    "\n",
    "def sharpe_pf(W,returns):\n",
    "    pf_risk = (W.dot(returns.cov()).dot(W))**0.5\n",
    "    SR = W.dot(returns.mean())/ pf_risk\n",
    "    #return Sharpe Ratio as a negative quantity in orde to minimize value \n",
    "    return -SR"
   ]
  },
  {
   "cell_type": "code",
   "execution_count": 10,
   "metadata": {},
   "outputs": [
    {
     "data": {
      "text/plain": [
       "-0.03509382181287497"
      ]
     },
     "execution_count": 10,
     "metadata": {},
     "output_type": "execute_result"
    }
   ],
   "source": [
    "sharpe_pf(W,ret_df)"
   ]
  },
  {
   "cell_type": "code",
   "execution_count": 12,
   "metadata": {},
   "outputs": [
    {
     "data": {
      "text/plain": [
       "     fun: -0.03683771718159994\n",
       "     jac: array([ 1.59551855e-04, -7.84671865e-05])\n",
       " message: 'Optimization terminated successfully'\n",
       "    nfev: 15\n",
       "     nit: 5\n",
       "    njev: 5\n",
       "  status: 0\n",
       " success: True\n",
       "       x: array([0.32966895, 0.67033105])"
      ]
     },
     "execution_count": 12,
     "metadata": {},
     "output_type": "execute_result"
    }
   ],
   "source": [
    "#create a constraint for the portfolio\n",
    "cons = ({\"type\":'eq', 'fun':lambda x: np.sum(x)-1})\n",
    "\n",
    "res = minimize(sharpe_pf,W,ret_df,constraints=cons)\n",
    "res\n",
    "#note! according to the output of minimize, it's optima to over weight the second asset in order to maximize the sharpe ratio"
   ]
  },
  {
   "cell_type": "code",
   "execution_count": 13,
   "metadata": {},
   "outputs": [
    {
     "data": {
      "text/plain": [
       "array([0.32966895, 0.67033105])"
      ]
     },
     "execution_count": 13,
     "metadata": {},
     "output_type": "execute_result"
    }
   ],
   "source": [
    "#allocate optimal weights\n",
    "opt_W = res['x']\n",
    "opt_W"
   ]
  },
  {
   "cell_type": "code",
   "execution_count": 69,
   "metadata": {},
   "outputs": [
    {
     "data": {
      "text/html": [
       "<div>\n",
       "<style scoped>\n",
       "    .dataframe tbody tr th:only-of-type {\n",
       "        vertical-align: middle;\n",
       "    }\n",
       "\n",
       "    .dataframe tbody tr th {\n",
       "        vertical-align: top;\n",
       "    }\n",
       "\n",
       "    .dataframe thead th {\n",
       "        text-align: right;\n",
       "    }\n",
       "</style>\n",
       "<table border=\"1\" class=\"dataframe\">\n",
       "  <thead>\n",
       "    <tr style=\"text-align: right;\">\n",
       "      <th></th>\n",
       "      <th>normal</th>\n",
       "      <th>optimized</th>\n",
       "    </tr>\n",
       "    <tr>\n",
       "      <th>Date</th>\n",
       "      <th></th>\n",
       "      <th></th>\n",
       "    </tr>\n",
       "  </thead>\n",
       "  <tbody>\n",
       "    <tr>\n",
       "      <th>2010-01-04</th>\n",
       "      <td>NaN</td>\n",
       "      <td>NaN</td>\n",
       "    </tr>\n",
       "    <tr>\n",
       "      <th>2010-01-05</th>\n",
       "      <td>0.001734</td>\n",
       "      <td>0.002203</td>\n",
       "    </tr>\n",
       "    <tr>\n",
       "      <th>2010-01-06</th>\n",
       "      <td>0.009904</td>\n",
       "      <td>0.007776</td>\n",
       "    </tr>\n",
       "    <tr>\n",
       "      <th>2010-01-07</th>\n",
       "      <td>0.010667</td>\n",
       "      <td>0.009639</td>\n",
       "    </tr>\n",
       "    <tr>\n",
       "      <th>2010-01-08</th>\n",
       "      <td>0.014351</td>\n",
       "      <td>0.013048</td>\n",
       "    </tr>\n",
       "    <tr>\n",
       "      <th>...</th>\n",
       "      <td>...</td>\n",
       "      <td>...</td>\n",
       "    </tr>\n",
       "    <tr>\n",
       "      <th>2022-12-23</th>\n",
       "      <td>0.894993</td>\n",
       "      <td>1.023429</td>\n",
       "    </tr>\n",
       "    <tr>\n",
       "      <th>2022-12-27</th>\n",
       "      <td>0.898198</td>\n",
       "      <td>1.024160</td>\n",
       "    </tr>\n",
       "    <tr>\n",
       "      <th>2022-12-28</th>\n",
       "      <td>0.890247</td>\n",
       "      <td>1.014797</td>\n",
       "    </tr>\n",
       "    <tr>\n",
       "      <th>2022-12-29</th>\n",
       "      <td>0.902100</td>\n",
       "      <td>1.028510</td>\n",
       "    </tr>\n",
       "    <tr>\n",
       "      <th>2022-12-30</th>\n",
       "      <td>0.903733</td>\n",
       "      <td>1.028719</td>\n",
       "    </tr>\n",
       "  </tbody>\n",
       "</table>\n",
       "<p>3273 rows × 2 columns</p>\n",
       "</div>"
      ],
      "text/plain": [
       "              normal  optimized\n",
       "Date                           \n",
       "2010-01-04       NaN        NaN\n",
       "2010-01-05  0.001734   0.002203\n",
       "2010-01-06  0.009904   0.007776\n",
       "2010-01-07  0.010667   0.009639\n",
       "2010-01-08  0.014351   0.013048\n",
       "...              ...        ...\n",
       "2022-12-23  0.894993   1.023429\n",
       "2022-12-27  0.898198   1.024160\n",
       "2022-12-28  0.890247   1.014797\n",
       "2022-12-29  0.902100   1.028510\n",
       "2022-12-30  0.903733   1.028719\n",
       "\n",
       "[3273 rows x 2 columns]"
      ]
     },
     "execution_count": 69,
     "metadata": {},
     "output_type": "execute_result"
    }
   ],
   "source": [
    "platz = pd.DataFrame(ret_df.dot(W).cumsum())\n",
    "gates = pd.DataFrame(ret_df.dot(opt_W).cumsum())\n",
    "sret = pd.concat([platz,gates],axis=1)\n",
    "sret.columns = ['normal','optimized']\n",
    "sret\n",
    "#note! return is greater using the optimized weighted portfolio "
   ]
  },
  {
   "cell_type": "code",
   "execution_count": 70,
   "metadata": {},
   "outputs": [
    {
     "data": {
      "text/plain": [
       "<AxesSubplot:xlabel='Date'>"
      ]
     },
     "execution_count": 70,
     "metadata": {},
     "output_type": "execute_result"
    },
    {
     "data": {
      "image/png": "[encoded data removed]",
      "text/plain": [
       "<Figure size 432x288 with 1 Axes>"
      ]
     },
     "metadata": {
      "needs_background": "light"
     },
     "output_type": "display_data"
    }
   ],
   "source": [
    "sret.plot()"
   ]
  },
  {
   "cell_type": "code",
   "execution_count": 72,
   "metadata": {},
   "outputs": [
    {
     "data": {
      "text/plain": [
       "array([0.  , 0.01, 0.02, 0.03, 0.04, 0.05, 0.06, 0.07, 0.08, 0.09, 0.1 ,\n",
       "       0.11, 0.12, 0.13, 0.14, 0.15, 0.16, 0.17, 0.18, 0.19, 0.2 , 0.21,\n",
       "       0.22, 0.23, 0.24, 0.25, 0.26, 0.27, 0.28, 0.29, 0.3 , 0.31, 0.32,\n",
       "       0.33, 0.34, 0.35, 0.36, 0.37, 0.38, 0.39, 0.4 , 0.41, 0.42, 0.43,\n",
       "       0.44, 0.45, 0.46, 0.47, 0.48, 0.49, 0.5 , 0.51, 0.52, 0.53, 0.54,\n",
       "       0.55, 0.56, 0.57, 0.58, 0.59, 0.6 , 0.61, 0.62, 0.63, 0.64, 0.65,\n",
       "       0.66, 0.67, 0.68, 0.69, 0.7 , 0.71, 0.72, 0.73, 0.74, 0.75, 0.76,\n",
       "       0.77, 0.78, 0.79, 0.8 , 0.81, 0.82, 0.83, 0.84, 0.85, 0.86, 0.87,\n",
       "       0.88, 0.89, 0.9 , 0.91, 0.92, 0.93, 0.94, 0.95, 0.96, 0.97, 0.98,\n",
       "       0.99])"
      ]
     },
     "execution_count": 72,
     "metadata": {},
     "output_type": "execute_result"
    }
   ],
   "source": [
    "np.arange(0,1,0.01)"
   ]
  },
  {
   "cell_type": "code",
   "execution_count": 74,
   "metadata": {},
   "outputs": [
    {
     "name": "stdout",
     "output_type": "stream",
     "text": [
      "[0. 1.]\n",
      "[0.01 0.99]\n",
      "[0.02 0.98]\n",
      "[0.03 0.97]\n",
      "[0.04 0.96]\n",
      "[0.05 0.95]\n",
      "[0.06 0.94]\n",
      "[0.07 0.93]\n",
      "[0.08 0.92]\n",
      "[0.09 0.91]\n",
      "[0.1 0.9]\n",
      "[0.11 0.89]\n",
      "[0.12 0.88]\n",
      "[0.13 0.87]\n",
      "[0.14 0.86]\n",
      "[0.15 0.85]\n",
      "[0.16 0.84]\n",
      "[0.17 0.83]\n",
      "[0.18 0.82]\n",
      "[0.19 0.81]\n",
      "[0.2 0.8]\n",
      "[0.21 0.79]\n",
      "[0.22 0.78]\n",
      "[0.23 0.77]\n",
      "[0.24 0.76]\n",
      "[0.25 0.75]\n",
      "[0.26 0.74]\n",
      "[0.27 0.73]\n",
      "[0.28 0.72]\n",
      "[0.29 0.71]\n",
      "[0.3 0.7]\n",
      "[0.31 0.69]\n",
      "[0.32 0.68]\n",
      "[0.33 0.67]\n",
      "[0.34 0.66]\n",
      "[0.35 0.65]\n",
      "[0.36 0.64]\n",
      "[0.37 0.63]\n",
      "[0.38 0.62]\n",
      "[0.39 0.61]\n",
      "[0.4 0.6]\n",
      "[0.41 0.59]\n",
      "[0.42 0.58]\n",
      "[0.43 0.57]\n",
      "[0.44 0.56]\n",
      "[0.45 0.55]\n",
      "[0.46 0.54]\n",
      "[0.47 0.53]\n",
      "[0.48 0.52]\n",
      "[0.49 0.51]\n",
      "[0.5 0.5]\n",
      "[0.51 0.49]\n",
      "[0.52 0.48]\n",
      "[0.53 0.47]\n",
      "[0.54 0.46]\n",
      "[0.55 0.45]\n",
      "[0.56 0.44]\n",
      "[0.57 0.43]\n",
      "[0.58 0.42]\n",
      "[0.59 0.41]\n",
      "[0.6 0.4]\n",
      "[0.61 0.39]\n",
      "[0.62 0.38]\n",
      "[0.63 0.37]\n",
      "[0.64 0.36]\n",
      "[0.65 0.35]\n",
      "[0.66 0.34]\n",
      "[0.67 0.33]\n",
      "[0.68 0.32]\n",
      "[0.69 0.31]\n",
      "[0.7 0.3]\n",
      "[0.71 0.29]\n",
      "[0.72 0.28]\n",
      "[0.73 0.27]\n",
      "[0.74 0.26]\n",
      "[0.75 0.25]\n",
      "[0.76 0.24]\n",
      "[0.77 0.23]\n",
      "[0.78 0.22]\n",
      "[0.79 0.21]\n",
      "[0.8 0.2]\n",
      "[0.81 0.19]\n",
      "[0.82 0.18]\n",
      "[0.83 0.17]\n",
      "[0.84 0.16]\n",
      "[0.85 0.15]\n",
      "[0.86 0.14]\n",
      "[0.87 0.13]\n",
      "[0.88 0.12]\n",
      "[0.89 0.11]\n",
      "[0.9 0.1]\n",
      "[0.91 0.09]\n",
      "[0.92 0.08]\n",
      "[0.93 0.07]\n",
      "[0.94 0.06]\n",
      "[0.95 0.05]\n",
      "[0.96 0.04]\n",
      "[0.97 0.03]\n",
      "[0.98 0.02]\n",
      "[0.99 0.01]\n"
     ]
    }
   ],
   "source": [
    "#manually calculate the sharpe ratios\n",
    "sharpes = []\n",
    "\n",
    "for w in np.arange(0,1,0.01):\n",
    "    weights = w, 1-w\n",
    "    weights = np.array(weights)\n",
    "    print(weights)\n",
    "    sharpes.append(sharpe_pf(weights,ret_df))"
   ]
  },
  {
   "cell_type": "code",
   "execution_count": 75,
   "metadata": {},
   "outputs": [
    {
     "data": {
      "text/plain": [
       "<AxesSubplot:>"
      ]
     },
     "execution_count": 75,
     "metadata": {},
     "output_type": "execute_result"
    },
    {
     "data": {
      "image/png": "[encoded data removed]",
      "text/plain": [
       "<Figure size 432x288 with 1 Axes>"
      ]
     },
     "metadata": {
      "needs_background": "light"
     },
     "output_type": "display_data"
    }
   ],
   "source": [
    "pd.Series(sharpes).plot()"
   ]
  },
  {
   "cell_type": "code",
   "execution_count": 78,
   "metadata": {},
   "outputs": [],
   "source": [
    "#Create trainning and testing datasets using specific percentages \n",
    "train = ret_df[:int(len(ret_df) * 0.7)]\n",
    "test = ret_df[int(len(ret_df) * 0.7):]\n"
   ]
  },
  {
   "cell_type": "code",
   "execution_count": 79,
   "metadata": {},
   "outputs": [
    {
     "data": {
      "text/plain": [
       "     fun: -0.041063445081713605\n",
       "     jac: array([ 4.17898409e-05, -8.46851617e-06])\n",
       " message: 'Optimization terminated successfully'\n",
       "    nfev: 18\n",
       "     nit: 6\n",
       "    njev: 6\n",
       "  status: 0\n",
       " success: True\n",
       "       x: array([0.16849933, 0.83150067])"
      ]
     },
     "execution_count": 79,
     "metadata": {},
     "output_type": "execute_result"
    }
   ],
   "source": [
    "res_train = minimize(sharpe_pf, W, train, constraints=cons)\n",
    "res_train"
   ]
  },
  {
   "cell_type": "code",
   "execution_count": 80,
   "metadata": {},
   "outputs": [
    {
     "data": {
      "text/plain": [
       "Date\n",
       "2019-02-11   -0.000272\n",
       "2019-02-12    0.010661\n",
       "2019-02-13    0.013377\n",
       "2019-02-14    0.011041\n",
       "2019-02-15    0.021102\n",
       "                ...   \n",
       "2022-12-23    0.363175\n",
       "2022-12-27    0.361565\n",
       "2022-12-28    0.350867\n",
       "2022-12-29    0.366339\n",
       "2022-12-30    0.365202\n",
       "Length: 982, dtype: float64"
      ]
     },
     "execution_count": 80,
     "metadata": {},
     "output_type": "execute_result"
    }
   ],
   "source": [
    "test.dot(res_train['x']).cumsum()"
   ]
  },
  {
   "cell_type": "code",
   "execution_count": 81,
   "metadata": {},
   "outputs": [
    {
     "data": {
      "text/plain": [
       "Date\n",
       "2019-02-11   -0.002202\n",
       "2019-02-12    0.005043\n",
       "2019-02-13    0.007163\n",
       "2019-02-14    0.005454\n",
       "2019-02-15    0.014022\n",
       "                ...   \n",
       "2022-12-23    0.342767\n",
       "2022-12-27    0.345973\n",
       "2022-12-28    0.338021\n",
       "2022-12-29    0.349874\n",
       "2022-12-30    0.351507\n",
       "Length: 982, dtype: float64"
      ]
     },
     "execution_count": 81,
     "metadata": {},
     "output_type": "execute_result"
    }
   ],
   "source": [
    "test.dot(W).cumsum()\n",
    "#note! the returns on the optimized weights above are still superior, albeit marginally"
   ]
  },
  {
   "cell_type": "code",
   "execution_count": 83,
   "metadata": {},
   "outputs": [
    {
     "name": "stdout",
     "output_type": "stream",
     "text": [
      "Optimized Sharpe Ratio for test data: -0.030000043576712435\n",
      "Equal weights Sharpe Ratio for test data: -0.03829920023464261\n"
     ]
    }
   ],
   "source": [
    "print(f\"Optimized Sharpe Ratio for test data: {sharpe_pf(res_train['x'],test)}\")\n",
    "print(f\"Equal weights Sharpe Ratio for test data: {sharpe_pf(W,test)}\")"
   ]
  },
  {
   "cell_type": "code",
   "execution_count": null,
   "metadata": {},
   "outputs": [],
   "source": []
  }
 ],
 "metadata": {
  "kernelspec": {
   "display_name": "Python 3",
   "language": "python",
   "name": "python3"
  },
  "language_info": {
   "codemirror_mode": {
    "name": "ipython",
    "version": 3
   },
   "file_extension": ".py",
   "mimetype": "text/x-python",
   "name": "python",
   "nbconvert_exporter": "python",
   "pygments_lexer": "ipython3",
   "version": "3.9.1"
  },
  "orig_nbformat": 4,
  "vscode": {
   "interpreter": {
    "hash": "81794d4967e6c3204c66dcd87b604927b115b27c00565d3d43f05ba2f3a2cb0d"
   }
  }
 },
 "nbformat": 4,
 "nbformat_minor": 2
}
